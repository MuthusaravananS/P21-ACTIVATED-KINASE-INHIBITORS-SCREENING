{
 "cells": [
  {
   "cell_type": "code",
   "execution_count": 1,
   "metadata": {
    "executionInfo": {
     "elapsed": 1258,
     "status": "ok",
     "timestamp": 1672989349140,
     "user": {
      "displayName": "MUTHUSARAVANAN S",
      "userId": "11781134045498187958"
     },
     "user_tz": -330
    },
    "id": "uXx2UfgFQFE7"
   },
   "outputs": [],
   "source": [
    "import pandas as pd\n",
    "import numpy as np\n",
    "from sklearn.model_selection import train_test_split\n",
    "from sklearn.metrics import confusion_matrix\n",
    "from sklearn.metrics import matthews_corrcoef\n",
    "from sklearn.metrics import accuracy_score\n",
    "from sklearn.metrics import recall_score\n",
    "from sklearn.metrics import precision_score\n",
    "from sklearn.metrics import roc_auc_score\n",
    "from sklearn.metrics import f1_score\n",
    "from sklearn.metrics import classification_report\n",
    "from sklearn.metrics import mean_absolute_error\n",
    "from sklearn.metrics import mean_squared_error \n",
    " \n",
    "import matplotlib.pyplot as plt\n",
    "%matplotlib inline"
   ]
  },
  {
   "cell_type": "code",
   "execution_count": 2,
   "metadata": {
    "colab": {
     "base_uri": "https://localhost:8080/"
    },
    "executionInfo": {
     "elapsed": 4681,
     "status": "ok",
     "timestamp": 1672996012043,
     "user": {
      "displayName": "MUTHUSARAVANAN S",
      "userId": "11781134045498187958"
     },
     "user_tz": -330
    },
    "id": "RxW0NwimcSuY",
    "outputId": "53200d29-54c3-401a-af87-93c06eb1e369"
   },
   "outputs": [
    {
     "name": "stdout",
     "output_type": "stream",
     "text": [
      "Requirement already satisfied: imbalanced-learn in c:\\users\\91830\\anaconda3\\lib\\site-packages (0.10.0)\n",
      "Requirement already satisfied: threadpoolctl>=2.0.0 in c:\\users\\91830\\anaconda3\\lib\\site-packages (from imbalanced-learn) (2.2.0)\n",
      "Requirement already satisfied: scikit-learn>=1.0.2 in c:\\users\\91830\\anaconda3\\lib\\site-packages (from imbalanced-learn) (1.0.2)\n",
      "Requirement already satisfied: numpy>=1.17.3 in c:\\users\\91830\\anaconda3\\lib\\site-packages (from imbalanced-learn) (1.21.6)\n",
      "Requirement already satisfied: scipy>=1.3.2 in c:\\users\\91830\\anaconda3\\lib\\site-packages (from imbalanced-learn) (1.9.1)\n",
      "Requirement already satisfied: joblib>=1.1.1 in c:\\users\\91830\\anaconda3\\lib\\site-packages (from imbalanced-learn) (1.2.0)\n"
     ]
    }
   ],
   "source": [
    "!pip install imbalanced-learn"
   ]
  },
  {
   "cell_type": "code",
   "execution_count": 3,
   "metadata": {
    "colab": {
     "base_uri": "https://localhost:8080/"
    },
    "executionInfo": {
     "elapsed": 956,
     "status": "ok",
     "timestamp": 1672996051164,
     "user": {
      "displayName": "MUTHUSARAVANAN S",
      "userId": "11781134045498187958"
     },
     "user_tz": -330
    },
    "id": "zKLtOFO8RDGb",
    "outputId": "18d5239d-75ca-4753-afb2-646e26c76d6e"
   },
   "outputs": [
    {
     "name": "stderr",
     "output_type": "stream",
     "text": [
      "C:\\Users\\91830\\AppData\\Local\\Temp\\ipykernel_17436\\2246016351.py:3: DtypeWarning: Columns (4,5,6,7,8,9,10,11,12,13,14,15,53,54,55,56,57,58,59,60,61,141,142,150,151,152,153,154,155,156,157,158,168,169,177,178,186,187,195,196,204,205,213,214,222,223,231,232,233,234,235,236,237,238,239,240,241,260,261,262,263,264,265,266,267,268,341,342,343,344,345,346,347,348,349,357,358,366,367,368,369,370,371,372,373,374,384,385,393,394,402,403,411,412,420,421,429,430,438,439,447,448,449,450,451,452,453,454,455,456,463,464,471,472,473,474,475,476,477,478,487,488,495,496,503,504,511,512,519,520,527,528,535,536,543,544,545,546,547,548,549,550,551,552,559,560,567,568,569,570,571,572,573,574,583,584,591,592,599,600,607,608,615,616,623,624,631,632,639,640,641,642,643,644,645,646,647,648,649,650,651,652,653,654,655,656,657,658,659,660,661,662,663,664,666,667,668,669,670,671,672,673,674,675,676,677,678,679,680,681,682,683,684,685,686,687,688,689,690,691,692,693,694,695,696,697,698,699,700,701,702,703,704,705,706,707,708,709,710,711,712,713,714,715,716,717,718,719,720,721,722,723,724,725,726,727,728,729,730,731,732,733,734,735,736,737,738,739,740,741,742,743,744,745,746,747,748,749,750,751,752,753,754,755,756,757,758,759,760,761,762,763,764,765,766,767,768,769,815,816,858,866,874,882,920,921,922,923,924,925,926,927,928,929,930,931,1101,1106,1180,1185,1249,1250,1251,1252,1253,1254,1255,1256,1257,1258,1259,1260,1261,1262,1263,1264,1265,1266,1267,1268,1269,1270,1271,1272,1273,1274,1275,1276,1277,1278,1279,1280,1281,1282,1283,1284,1285,1286,1287,1288,1289,1290,1291,1292,1293,1351,1352,1572,1573,1575,1587,1588,1589,1590,1591,1592,1593,1594,1595,1596,1597,1598,1795,1824) have mixed types. Specify dtype option on import or set low_memory=False.\n",
      "  df = pd.read_csv(r'mordred3dinputfinal.csv')\n"
     ]
    },
    {
     "data": {
      "text/plain": [
       "(1741, 1827)"
      ]
     },
     "execution_count": 3,
     "metadata": {},
     "output_type": "execute_result"
    }
   ],
   "source": [
    "import pandas as pd\n",
    "import numpy as np\n",
    "df = pd.read_csv(r'mordred3dinputfinal.csv')\n",
    "df.shape\n",
    "\n",
    "\n"
   ]
  },
  {
   "cell_type": "code",
   "execution_count": 4,
   "metadata": {
    "executionInfo": {
     "elapsed": 1331,
     "status": "ok",
     "timestamp": 1672996204759,
     "user": {
      "displayName": "MUTHUSARAVANAN S",
      "userId": "11781134045498187958"
     },
     "user_tz": -330
    },
    "id": "hY2Aw4eFnB_N"
   },
   "outputs": [],
   "source": [
    "df.head(10)\n",
    "df=df.apply(lambda x: pd.to_numeric(x, errors='coerce'))\n",
    "df=df.replace(np.nan, 0)\n",
    "df = df.dropna()\n",
    "X = df.drop(\"class\", axis=1)\n",
    "y = df[\"class\"]\n",
    "#Spliting the dataset into Training set and Test Set\n",
    "from sklearn.model_selection import train_test_split\n",
    "X_train, X_test, y_train, y_test = train_test_split(X, y, test_size= 0.2, random_state=0)\n"
   ]
  },
  {
   "cell_type": "code",
   "execution_count": 5,
   "metadata": {
    "colab": {
     "base_uri": "https://localhost:8080/"
    },
    "executionInfo": {
     "elapsed": 1238,
     "status": "ok",
     "timestamp": 1672998371607,
     "user": {
      "displayName": "MUTHUSARAVANAN S",
      "userId": "11781134045498187958"
     },
     "user_tz": -330
    },
    "id": "YLIDf3kYkMrC",
    "outputId": "ea8c4f2a-f315-414d-e35f-67ee45e085d3"
   },
   "outputs": [
    {
     "name": "stdout",
     "output_type": "stream",
     "text": [
      "Before Counter({0: 1004, 1: 388})\n",
      "After Counter({1: 807, 0: 596})\n"
     ]
    }
   ],
   "source": [
    "from imblearn.combine import SMOTEENN\n",
    "from collections import Counter\n",
    "\n",
    "counter = Counter(y_train)\n",
    "print('Before',counter)\n",
    "smenn = SMOTEENN()\n",
    "X_train_smenn, y_train_smenn = smenn.fit_resample(X_train,y_train)\n",
    "X_test_smenn, y_test_smenn = smenn.fit_resample(X_test,y_test)\n",
    "counter = Counter(y_train_smenn)\n",
    "print('After',counter)"
   ]
  },
  {
   "cell_type": "code",
   "execution_count": 6,
   "metadata": {
    "colab": {
     "base_uri": "https://localhost:8080/"
    },
    "executionInfo": {
     "elapsed": 134454,
     "status": "ok",
     "timestamp": 1672998530728,
     "user": {
      "displayName": "MUTHUSARAVANAN S",
      "userId": "11781134045498187958"
     },
     "user_tz": -330
    },
    "id": "bnmQaChKeLGG",
    "outputId": "ab6483be-625c-4f27-f7f9-f0d18e9f334e"
   },
   "outputs": [
    {
     "name": "stdout",
     "output_type": "stream",
     "text": [
      "Fitting 5 folds for each of 48 candidates, totalling 240 fits\n",
      "[CV] END .........................C=0.1, gamma=1, kernel=rbf; total time=   9.6s\n",
      "[CV] END .........................C=0.1, gamma=1, kernel=rbf; total time=   9.8s\n",
      "[CV] END .........................C=0.1, gamma=1, kernel=rbf; total time=   8.2s\n",
      "[CV] END .........................C=0.1, gamma=1, kernel=rbf; total time=   9.4s\n",
      "[CV] END .........................C=0.1, gamma=1, kernel=rbf; total time=  10.3s\n",
      "[CV] END ........................C=0.1, gamma=1, kernel=poly; total time=   0.3s\n",
      "[CV] END ........................C=0.1, gamma=1, kernel=poly; total time=   0.1s\n",
      "[CV] END ........................C=0.1, gamma=1, kernel=poly; total time=   0.3s\n",
      "[CV] END ........................C=0.1, gamma=1, kernel=poly; total time= 1.0min\n",
      "[CV] END ........................C=0.1, gamma=1, kernel=poly; total time=   0.3s\n",
      "[CV] END .....................C=0.1, gamma=1, kernel=sigmoid; total time=   5.1s\n",
      "[CV] END .....................C=0.1, gamma=1, kernel=sigmoid; total time=   5.3s\n",
      "[CV] END .....................C=0.1, gamma=1, kernel=sigmoid; total time=   5.8s\n",
      "[CV] END .....................C=0.1, gamma=1, kernel=sigmoid; total time=   6.0s\n",
      "[CV] END .....................C=0.1, gamma=1, kernel=sigmoid; total time=   6.1s\n",
      "[CV] END .......................C=0.1, gamma=0.1, kernel=rbf; total time=  10.5s\n",
      "[CV] END .......................C=0.1, gamma=0.1, kernel=rbf; total time=   2.4s\n",
      "[CV] END .......................C=0.1, gamma=0.1, kernel=rbf; total time=   9.1s\n",
      "[CV] END .......................C=0.1, gamma=0.1, kernel=rbf; total time=   3.4s\n",
      "[CV] END .......................C=0.1, gamma=0.1, kernel=rbf; total time=   8.8s\n",
      "[CV] END ......................C=0.1, gamma=0.1, kernel=poly; total time=   3.7s\n",
      "[CV] END ......................C=0.1, gamma=0.1, kernel=poly; total time=   3.4s\n",
      "[CV] END ......................C=0.1, gamma=0.1, kernel=poly; total time=   4.0s\n",
      "[CV] END ......................C=0.1, gamma=0.1, kernel=poly; total time=   4.1s\n",
      "[CV] END ......................C=0.1, gamma=0.1, kernel=poly; total time=   1.9s\n",
      "[CV] END ...................C=0.1, gamma=0.1, kernel=sigmoid; total time=   5.0s\n",
      "[CV] END ...................C=0.1, gamma=0.1, kernel=sigmoid; total time=   5.5s\n",
      "[CV] END ...................C=0.1, gamma=0.1, kernel=sigmoid; total time=   5.1s\n",
      "[CV] END ...................C=0.1, gamma=0.1, kernel=sigmoid; total time=   5.8s\n",
      "[CV] END ...................C=0.1, gamma=0.1, kernel=sigmoid; total time=   5.1s\n",
      "[CV] END ......................C=0.1, gamma=0.01, kernel=rbf; total time=   7.8s\n",
      "[CV] END ......................C=0.1, gamma=0.01, kernel=rbf; total time=   7.6s\n",
      "[CV] END ......................C=0.1, gamma=0.01, kernel=rbf; total time=   7.8s\n",
      "[CV] END ......................C=0.1, gamma=0.01, kernel=rbf; total time=   7.4s\n",
      "[CV] END ......................C=0.1, gamma=0.01, kernel=rbf; total time=   7.3s\n",
      "[CV] END .....................C=0.1, gamma=0.01, kernel=poly; total time=   3.2s\n",
      "[CV] END .....................C=0.1, gamma=0.01, kernel=poly; total time=   2.9s\n",
      "[CV] END .....................C=0.1, gamma=0.01, kernel=poly; total time=   2.9s\n",
      "[CV] END .....................C=0.1, gamma=0.01, kernel=poly; total time=   3.4s\n",
      "[CV] END .....................C=0.1, gamma=0.01, kernel=poly; total time=   4.1s\n",
      "[CV] END ..................C=0.1, gamma=0.01, kernel=sigmoid; total time=   3.9s\n",
      "[CV] END ..................C=0.1, gamma=0.01, kernel=sigmoid; total time=   4.3s\n",
      "[CV] END ..................C=0.1, gamma=0.01, kernel=sigmoid; total time=   4.0s\n",
      "[CV] END ..................C=0.1, gamma=0.01, kernel=sigmoid; total time=   3.0s\n",
      "[CV] END ..................C=0.1, gamma=0.01, kernel=sigmoid; total time=   3.0s\n",
      "[CV] END .....................C=0.1, gamma=0.001, kernel=rbf; total time=   5.5s\n",
      "[CV] END .....................C=0.1, gamma=0.001, kernel=rbf; total time=   5.1s\n",
      "[CV] END .....................C=0.1, gamma=0.001, kernel=rbf; total time=   5.2s\n",
      "[CV] END .....................C=0.1, gamma=0.001, kernel=rbf; total time=   2.4s\n",
      "[CV] END .....................C=0.1, gamma=0.001, kernel=rbf; total time=   4.9s\n",
      "[CV] END ....................C=0.1, gamma=0.001, kernel=poly; total time=   1.9s\n",
      "[CV] END ....................C=0.1, gamma=0.001, kernel=poly; total time=   1.6s\n",
      "[CV] END ....................C=0.1, gamma=0.001, kernel=poly; total time=   1.6s\n",
      "[CV] END ....................C=0.1, gamma=0.001, kernel=poly; total time=   1.7s\n",
      "[CV] END ....................C=0.1, gamma=0.001, kernel=poly; total time=   1.8s\n",
      "[CV] END .................C=0.1, gamma=0.001, kernel=sigmoid; total time=   1.7s\n",
      "[CV] END .................C=0.1, gamma=0.001, kernel=sigmoid; total time=   1.7s\n",
      "[CV] END .................C=0.1, gamma=0.001, kernel=sigmoid; total time=   1.5s\n",
      "[CV] END .................C=0.1, gamma=0.001, kernel=sigmoid; total time=   1.4s\n",
      "[CV] END .................C=0.1, gamma=0.001, kernel=sigmoid; total time=   1.1s\n",
      "[CV] END ...........................C=1, gamma=1, kernel=rbf; total time=   2.0s\n",
      "[CV] END ...........................C=1, gamma=1, kernel=rbf; total time=   2.1s\n",
      "[CV] END ...........................C=1, gamma=1, kernel=rbf; total time=   1.8s\n",
      "[CV] END ...........................C=1, gamma=1, kernel=rbf; total time=   1.6s\n",
      "[CV] END ...........................C=1, gamma=1, kernel=rbf; total time=   1.6s\n",
      "[CV] END ..........................C=1, gamma=1, kernel=poly; total time=   0.0s\n",
      "[CV] END ..........................C=1, gamma=1, kernel=poly; total time=   0.0s\n",
      "[CV] END ..........................C=1, gamma=1, kernel=poly; total time=   0.0s\n",
      "[CV] END ..........................C=1, gamma=1, kernel=poly; total time=  11.6s\n",
      "[CV] END ..........................C=1, gamma=1, kernel=poly; total time=   0.0s\n",
      "[CV] END .......................C=1, gamma=1, kernel=sigmoid; total time=   0.8s\n",
      "[CV] END .......................C=1, gamma=1, kernel=sigmoid; total time=   0.8s\n",
      "[CV] END .......................C=1, gamma=1, kernel=sigmoid; total time=   0.8s\n",
      "[CV] END .......................C=1, gamma=1, kernel=sigmoid; total time=   0.8s\n",
      "[CV] END .......................C=1, gamma=1, kernel=sigmoid; total time=   0.8s\n",
      "[CV] END .........................C=1, gamma=0.1, kernel=rbf; total time=   1.6s\n",
      "[CV] END .........................C=1, gamma=0.1, kernel=rbf; total time=   1.5s\n",
      "[CV] END .........................C=1, gamma=0.1, kernel=rbf; total time=   1.5s\n",
      "[CV] END .........................C=1, gamma=0.1, kernel=rbf; total time=   1.4s\n",
      "[CV] END .........................C=1, gamma=0.1, kernel=rbf; total time=   1.4s\n",
      "[CV] END ........................C=1, gamma=0.1, kernel=poly; total time=   0.6s\n",
      "[CV] END ........................C=1, gamma=0.1, kernel=poly; total time=   0.5s\n",
      "[CV] END ........................C=1, gamma=0.1, kernel=poly; total time=   0.7s\n",
      "[CV] END ........................C=1, gamma=0.1, kernel=poly; total time=   0.7s\n",
      "[CV] END ........................C=1, gamma=0.1, kernel=poly; total time=   0.2s\n",
      "[CV] END .....................C=1, gamma=0.1, kernel=sigmoid; total time=   0.8s\n",
      "[CV] END .....................C=1, gamma=0.1, kernel=sigmoid; total time=   0.9s\n",
      "[CV] END .....................C=1, gamma=0.1, kernel=sigmoid; total time=   0.8s\n",
      "[CV] END .....................C=1, gamma=0.1, kernel=sigmoid; total time=   0.8s\n",
      "[CV] END .....................C=1, gamma=0.1, kernel=sigmoid; total time=   0.7s\n",
      "[CV] END ........................C=1, gamma=0.01, kernel=rbf; total time=   1.4s\n",
      "[CV] END ........................C=1, gamma=0.01, kernel=rbf; total time=   1.4s\n",
      "[CV] END ........................C=1, gamma=0.01, kernel=rbf; total time=   1.4s\n",
      "[CV] END ........................C=1, gamma=0.01, kernel=rbf; total time=   1.3s\n",
      "[CV] END ........................C=1, gamma=0.01, kernel=rbf; total time=   1.3s\n",
      "[CV] END .......................C=1, gamma=0.01, kernel=poly; total time=   0.6s\n",
      "[CV] END .......................C=1, gamma=0.01, kernel=poly; total time=   0.6s\n",
      "[CV] END .......................C=1, gamma=0.01, kernel=poly; total time=   0.6s\n",
      "[CV] END .......................C=1, gamma=0.01, kernel=poly; total time=   0.6s\n",
      "[CV] END .......................C=1, gamma=0.01, kernel=poly; total time=   0.6s\n",
      "[CV] END ....................C=1, gamma=0.01, kernel=sigmoid; total time=   0.7s\n"
     ]
    },
    {
     "name": "stdout",
     "output_type": "stream",
     "text": [
      "[CV] END ....................C=1, gamma=0.01, kernel=sigmoid; total time=   0.7s\n",
      "[CV] END ....................C=1, gamma=0.01, kernel=sigmoid; total time=   0.7s\n",
      "[CV] END ....................C=1, gamma=0.01, kernel=sigmoid; total time=   0.7s\n",
      "[CV] END ....................C=1, gamma=0.01, kernel=sigmoid; total time=   0.7s\n",
      "[CV] END .......................C=1, gamma=0.001, kernel=rbf; total time=   1.2s\n",
      "[CV] END .......................C=1, gamma=0.001, kernel=rbf; total time=   1.2s\n",
      "[CV] END .......................C=1, gamma=0.001, kernel=rbf; total time=   1.0s\n",
      "[CV] END .......................C=1, gamma=0.001, kernel=rbf; total time=   1.1s\n",
      "[CV] END .......................C=1, gamma=0.001, kernel=rbf; total time=   1.0s\n",
      "[CV] END ......................C=1, gamma=0.001, kernel=poly; total time=   0.4s\n",
      "[CV] END ......................C=1, gamma=0.001, kernel=poly; total time=   0.4s\n",
      "[CV] END ......................C=1, gamma=0.001, kernel=poly; total time=   0.5s\n",
      "[CV] END ......................C=1, gamma=0.001, kernel=poly; total time=   0.5s\n",
      "[CV] END ......................C=1, gamma=0.001, kernel=poly; total time=   0.5s\n",
      "[CV] END ...................C=1, gamma=0.001, kernel=sigmoid; total time=   0.6s\n",
      "[CV] END ...................C=1, gamma=0.001, kernel=sigmoid; total time=   0.5s\n",
      "[CV] END ...................C=1, gamma=0.001, kernel=sigmoid; total time=   0.5s\n",
      "[CV] END ...................C=1, gamma=0.001, kernel=sigmoid; total time=   0.5s\n",
      "[CV] END ...................C=1, gamma=0.001, kernel=sigmoid; total time=   0.6s\n",
      "[CV] END ..........................C=10, gamma=1, kernel=rbf; total time=   1.1s\n",
      "[CV] END ..........................C=10, gamma=1, kernel=rbf; total time=   1.0s\n",
      "[CV] END ..........................C=10, gamma=1, kernel=rbf; total time=   1.0s\n",
      "[CV] END ..........................C=10, gamma=1, kernel=rbf; total time=   0.9s\n",
      "[CV] END ..........................C=10, gamma=1, kernel=rbf; total time=   1.0s\n",
      "[CV] END .........................C=10, gamma=1, kernel=poly; total time=   0.0s\n",
      "[CV] END .........................C=10, gamma=1, kernel=poly; total time=   0.0s\n",
      "[CV] END .........................C=10, gamma=1, kernel=poly; total time=   0.0s\n",
      "[CV] END .........................C=10, gamma=1, kernel=poly; total time=   6.6s\n",
      "[CV] END .........................C=10, gamma=1, kernel=poly; total time=   0.0s\n",
      "[CV] END ......................C=10, gamma=1, kernel=sigmoid; total time=   0.5s\n",
      "[CV] END ......................C=10, gamma=1, kernel=sigmoid; total time=   0.6s\n",
      "[CV] END ......................C=10, gamma=1, kernel=sigmoid; total time=   0.5s\n",
      "[CV] END ......................C=10, gamma=1, kernel=sigmoid; total time=   0.5s\n",
      "[CV] END ......................C=10, gamma=1, kernel=sigmoid; total time=   0.5s\n",
      "[CV] END ........................C=10, gamma=0.1, kernel=rbf; total time=   0.8s\n",
      "[CV] END ........................C=10, gamma=0.1, kernel=rbf; total time=   0.8s\n",
      "[CV] END ........................C=10, gamma=0.1, kernel=rbf; total time=   0.8s\n",
      "[CV] END ........................C=10, gamma=0.1, kernel=rbf; total time=   0.8s\n",
      "[CV] END ........................C=10, gamma=0.1, kernel=rbf; total time=   0.8s\n",
      "[CV] END .......................C=10, gamma=0.1, kernel=poly; total time=   0.3s\n",
      "[CV] END .......................C=10, gamma=0.1, kernel=poly; total time=   0.3s\n",
      "[CV] END .......................C=10, gamma=0.1, kernel=poly; total time=   0.4s\n",
      "[CV] END .......................C=10, gamma=0.1, kernel=poly; total time=   0.4s\n",
      "[CV] END .......................C=10, gamma=0.1, kernel=poly; total time=   0.1s\n",
      "[CV] END ....................C=10, gamma=0.1, kernel=sigmoid; total time=   0.4s\n",
      "[CV] END ....................C=10, gamma=0.1, kernel=sigmoid; total time=   0.5s\n",
      "[CV] END ....................C=10, gamma=0.1, kernel=sigmoid; total time=   0.4s\n",
      "[CV] END ....................C=10, gamma=0.1, kernel=sigmoid; total time=   0.5s\n",
      "[CV] END ....................C=10, gamma=0.1, kernel=sigmoid; total time=   0.5s\n",
      "[CV] END .......................C=10, gamma=0.01, kernel=rbf; total time=   0.8s\n",
      "[CV] END .......................C=10, gamma=0.01, kernel=rbf; total time=   0.8s\n",
      "[CV] END .......................C=10, gamma=0.01, kernel=rbf; total time=   0.8s\n",
      "[CV] END .......................C=10, gamma=0.01, kernel=rbf; total time=   0.9s\n",
      "[CV] END .......................C=10, gamma=0.01, kernel=rbf; total time=   0.8s\n",
      "[CV] END ......................C=10, gamma=0.01, kernel=poly; total time=   0.3s\n",
      "[CV] END ......................C=10, gamma=0.01, kernel=poly; total time=   0.3s\n",
      "[CV] END ......................C=10, gamma=0.01, kernel=poly; total time=   0.4s\n",
      "[CV] END ......................C=10, gamma=0.01, kernel=poly; total time=   0.4s\n",
      "[CV] END ......................C=10, gamma=0.01, kernel=poly; total time=   0.4s\n",
      "[CV] END ...................C=10, gamma=0.01, kernel=sigmoid; total time=   0.4s\n",
      "[CV] END ...................C=10, gamma=0.01, kernel=sigmoid; total time=   0.5s\n",
      "[CV] END ...................C=10, gamma=0.01, kernel=sigmoid; total time=   0.4s\n",
      "[CV] END ...................C=10, gamma=0.01, kernel=sigmoid; total time=   0.4s\n",
      "[CV] END ...................C=10, gamma=0.01, kernel=sigmoid; total time=   0.4s\n",
      "[CV] END ......................C=10, gamma=0.001, kernel=rbf; total time=   0.8s\n",
      "[CV] END ......................C=10, gamma=0.001, kernel=rbf; total time=   0.7s\n",
      "[CV] END ......................C=10, gamma=0.001, kernel=rbf; total time=   0.7s\n",
      "[CV] END ......................C=10, gamma=0.001, kernel=rbf; total time=   0.7s\n",
      "[CV] END ......................C=10, gamma=0.001, kernel=rbf; total time=   0.7s\n",
      "[CV] END .....................C=10, gamma=0.001, kernel=poly; total time=   0.3s\n",
      "[CV] END .....................C=10, gamma=0.001, kernel=poly; total time=   0.4s\n",
      "[CV] END .....................C=10, gamma=0.001, kernel=poly; total time=   0.4s\n",
      "[CV] END .....................C=10, gamma=0.001, kernel=poly; total time=   0.4s\n",
      "[CV] END .....................C=10, gamma=0.001, kernel=poly; total time=   0.4s\n",
      "[CV] END ..................C=10, gamma=0.001, kernel=sigmoid; total time=   0.4s\n",
      "[CV] END ..................C=10, gamma=0.001, kernel=sigmoid; total time=   0.4s\n",
      "[CV] END ..................C=10, gamma=0.001, kernel=sigmoid; total time=   0.4s\n",
      "[CV] END ..................C=10, gamma=0.001, kernel=sigmoid; total time=   0.3s\n",
      "[CV] END ..................C=10, gamma=0.001, kernel=sigmoid; total time=   0.4s\n",
      "[CV] END .........................C=100, gamma=1, kernel=rbf; total time=   0.7s\n",
      "[CV] END .........................C=100, gamma=1, kernel=rbf; total time=   0.6s\n",
      "[CV] END .........................C=100, gamma=1, kernel=rbf; total time=   0.7s\n",
      "[CV] END .........................C=100, gamma=1, kernel=rbf; total time=   0.7s\n",
      "[CV] END .........................C=100, gamma=1, kernel=rbf; total time=   0.7s\n",
      "[CV] END ........................C=100, gamma=1, kernel=poly; total time=   0.0s\n",
      "[CV] END ........................C=100, gamma=1, kernel=poly; total time=   0.0s\n",
      "[CV] END ........................C=100, gamma=1, kernel=poly; total time=   0.0s\n",
      "[CV] END ........................C=100, gamma=1, kernel=poly; total time=   5.3s\n",
      "[CV] END ........................C=100, gamma=1, kernel=poly; total time=   0.0s\n",
      "[CV] END .....................C=100, gamma=1, kernel=sigmoid; total time=   0.4s\n",
      "[CV] END .....................C=100, gamma=1, kernel=sigmoid; total time=   0.4s\n",
      "[CV] END .....................C=100, gamma=1, kernel=sigmoid; total time=   0.4s\n",
      "[CV] END .....................C=100, gamma=1, kernel=sigmoid; total time=   0.4s\n",
      "[CV] END .....................C=100, gamma=1, kernel=sigmoid; total time=   0.4s\n",
      "[CV] END .......................C=100, gamma=0.1, kernel=rbf; total time=   0.6s\n",
      "[CV] END .......................C=100, gamma=0.1, kernel=rbf; total time=   0.7s\n",
      "[CV] END .......................C=100, gamma=0.1, kernel=rbf; total time=   0.7s\n",
      "[CV] END .......................C=100, gamma=0.1, kernel=rbf; total time=   0.7s\n",
      "[CV] END .......................C=100, gamma=0.1, kernel=rbf; total time=   0.6s\n",
      "[CV] END ......................C=100, gamma=0.1, kernel=poly; total time=   0.2s\n",
      "[CV] END ......................C=100, gamma=0.1, kernel=poly; total time=   0.2s\n",
      "[CV] END ......................C=100, gamma=0.1, kernel=poly; total time=   0.2s\n"
     ]
    },
    {
     "name": "stdout",
     "output_type": "stream",
     "text": [
      "[CV] END ......................C=100, gamma=0.1, kernel=poly; total time=   0.3s\n",
      "[CV] END ......................C=100, gamma=0.1, kernel=poly; total time=   0.1s\n",
      "[CV] END ...................C=100, gamma=0.1, kernel=sigmoid; total time=   0.4s\n",
      "[CV] END ...................C=100, gamma=0.1, kernel=sigmoid; total time=   0.4s\n",
      "[CV] END ...................C=100, gamma=0.1, kernel=sigmoid; total time=   0.4s\n",
      "[CV] END ...................C=100, gamma=0.1, kernel=sigmoid; total time=   0.4s\n",
      "[CV] END ...................C=100, gamma=0.1, kernel=sigmoid; total time=   0.3s\n",
      "[CV] END ......................C=100, gamma=0.01, kernel=rbf; total time=   0.6s\n",
      "[CV] END ......................C=100, gamma=0.01, kernel=rbf; total time=   0.6s\n",
      "[CV] END ......................C=100, gamma=0.01, kernel=rbf; total time=   0.6s\n",
      "[CV] END ......................C=100, gamma=0.01, kernel=rbf; total time=   0.6s\n",
      "[CV] END ......................C=100, gamma=0.01, kernel=rbf; total time=   0.7s\n",
      "[CV] END .....................C=100, gamma=0.01, kernel=poly; total time=   0.3s\n",
      "[CV] END .....................C=100, gamma=0.01, kernel=poly; total time=   0.3s\n",
      "[CV] END .....................C=100, gamma=0.01, kernel=poly; total time=   0.3s\n",
      "[CV] END .....................C=100, gamma=0.01, kernel=poly; total time=   0.3s\n",
      "[CV] END .....................C=100, gamma=0.01, kernel=poly; total time=   0.3s\n",
      "[CV] END ..................C=100, gamma=0.01, kernel=sigmoid; total time=   0.3s\n",
      "[CV] END ..................C=100, gamma=0.01, kernel=sigmoid; total time=   0.3s\n",
      "[CV] END ..................C=100, gamma=0.01, kernel=sigmoid; total time=   0.3s\n",
      "[CV] END ..................C=100, gamma=0.01, kernel=sigmoid; total time=   0.3s\n",
      "[CV] END ..................C=100, gamma=0.01, kernel=sigmoid; total time=   0.4s\n",
      "[CV] END .....................C=100, gamma=0.001, kernel=rbf; total time=   0.6s\n",
      "[CV] END .....................C=100, gamma=0.001, kernel=rbf; total time=   0.6s\n",
      "[CV] END .....................C=100, gamma=0.001, kernel=rbf; total time=   0.6s\n",
      "[CV] END .....................C=100, gamma=0.001, kernel=rbf; total time=   0.6s\n",
      "[CV] END .....................C=100, gamma=0.001, kernel=rbf; total time=   0.6s\n",
      "[CV] END ....................C=100, gamma=0.001, kernel=poly; total time=   0.3s\n",
      "[CV] END ....................C=100, gamma=0.001, kernel=poly; total time=   0.3s\n",
      "[CV] END ....................C=100, gamma=0.001, kernel=poly; total time=   0.3s\n",
      "[CV] END ....................C=100, gamma=0.001, kernel=poly; total time=   0.3s\n",
      "[CV] END ....................C=100, gamma=0.001, kernel=poly; total time=   0.3s\n",
      "[CV] END .................C=100, gamma=0.001, kernel=sigmoid; total time=   0.3s\n",
      "[CV] END .................C=100, gamma=0.001, kernel=sigmoid; total time=   0.3s\n",
      "[CV] END .................C=100, gamma=0.001, kernel=sigmoid; total time=   0.3s\n",
      "[CV] END .................C=100, gamma=0.001, kernel=sigmoid; total time=   0.3s\n",
      "[CV] END .................C=100, gamma=0.001, kernel=sigmoid; total time=   0.3s\n",
      "SVC(C=0.1, gamma=1, kernel='poly')\n"
     ]
    }
   ],
   "source": [
    "#Algorithm 1: SVM \n",
    "from sklearn.svm import SVC\n",
    "from sklearn.model_selection import RepeatedStratifiedKFold\n",
    "from sklearn.metrics import confusion_matrix\n",
    "from sklearn.metrics import matthews_corrcoef\n",
    "from sklearn.metrics import balanced_accuracy_score\n",
    "from sklearn.metrics import recall_score\n",
    "from sklearn.metrics import precision_score\n",
    "from sklearn.metrics import roc_auc_score\n",
    "from sklearn.metrics import f1_score\n",
    "from sklearn.metrics import mean_absolute_error\n",
    "from sklearn.metrics import mean_squared_error\n",
    "from sklearn.metrics import plot_confusion_matrix\n",
    "from numpy import std\n",
    "from sklearn.model_selection import GridSearchCV\n",
    "\n",
    "param_grid = {'C': [0.1,1, 10, 100], 'gamma': [1,0.1,0.01,0.001],'kernel': ['rbf', 'poly', 'sigmoid']}\n",
    "\n",
    "grid = GridSearchCV(SVC(),param_grid,refit=True,verbose=2)\n",
    "grid.fit(X_train_smenn, y_train_smenn)\n",
    "print(grid.best_estimator_)"
   ]
  },
  {
   "cell_type": "code",
   "execution_count": 7,
   "metadata": {
    "colab": {
     "base_uri": "https://localhost:8080/"
    },
    "executionInfo": {
     "elapsed": 5557,
     "status": "ok",
     "timestamp": 1672998656029,
     "user": {
      "displayName": "MUTHUSARAVANAN S",
      "userId": "11781134045498187958"
     },
     "user_tz": -330
    },
    "id": "txSOz6feh6HL",
    "outputId": "97f2cb1e-b289-4e47-e0dc-432121ce178d"
   },
   "outputs": [
    {
     "name": "stdout",
     "output_type": "stream",
     "text": [
      "\n",
      "Accuracy:  0.5\n",
      "\n",
      "MCC: 0.0\n",
      "\n",
      "Sensitivity:  1.0\n",
      "\n",
      "Specificity:  0.0\n",
      "\n",
      "Recall:  1.0\n",
      "\n",
      "Precision:  0.6574074074074074\n",
      "\n",
      "Area under the ROC curve:  0.5\n",
      "\n",
      "F1 score:  0.7932960893854749\n"
     ]
    }
   ],
   "source": [
    "from sklearn.svm import SVC\n",
    "from sklearn.model_selection import cross_val_score\n",
    "from sklearn.metrics import balanced_accuracy_score\n",
    "from sklearn.metrics import confusion_matrix\n",
    "SVC = SVC(C=0.1, gamma=1, kernel='poly',probability=True)\n",
    "SVC.fit(X_train_smenn, y_train_smenn)\n",
    "y_predsvm = SVC.predict(X_test_smenn)\n",
    "#Model Evaluation\n",
    "tn, fp, fn, tp = confusion_matrix(y_test_smenn, y_predsvm).ravel()\n",
    "MCC = matthews_corrcoef(y_test_smenn, y_predsvm)\n",
    "accuracy = balanced_accuracy_score(y_test_smenn, y_predsvm)\n",
    "sensitivity = tp/(tp+fn)\n",
    "specificity = tn/(tn+fp)\n",
    "recall = recall_score(y_test_smenn, y_predsvm)\n",
    "precision = precision_score(y_test_smenn, y_predsvm).mean()\n",
    "roc_auc = roc_auc_score(y_test_smenn, y_predsvm)\n",
    "f1 = f1_score(y_test_smenn, y_predsvm)\n",
    "print('\\nAccuracy: ', accuracy)\n",
    "print('\\nMCC:', MCC)\n",
    "print('\\nSensitivity: ', sensitivity)\n",
    "print('\\nSpecificity: ', specificity)\n",
    "print('\\nRecall: ', recall)\n",
    "print('\\nPrecision: ', precision)\n",
    "print('\\nArea under the ROC curve: ', roc_auc)\n",
    "print('\\nF1 score: ', f1)\n"
   ]
  },
  {
   "cell_type": "code",
   "execution_count": 8,
   "metadata": {
    "colab": {
     "base_uri": "https://localhost:8080/",
     "height": 297
    },
    "executionInfo": {
     "elapsed": 1056,
     "status": "ok",
     "timestamp": 1672998676466,
     "user": {
      "displayName": "MUTHUSARAVANAN S",
      "userId": "11781134045498187958"
     },
     "user_tz": -330
    },
    "id": "Bmr50gDQv8-b",
    "outputId": "4ce6e1e3-79b3-4349-85a6-90bf085d8e25",
    "scrolled": true
   },
   "outputs": [
    {
     "data": {
      "text/plain": [
       "<sklearn.metrics._plot.confusion_matrix.ConfusionMatrixDisplay at 0x18115f54490>"
      ]
     },
     "execution_count": 8,
     "metadata": {},
     "output_type": "execute_result"
    },
    {
     "data": {
      "image/png": "[encoded data removed]",
      "text/plain": [
       "<Figure size 640x480 with 2 Axes>"
      ]
     },
     "metadata": {},
     "output_type": "display_data"
    }
   ],
   "source": [
    "import seaborn as sns \n",
    "from sklearn.metrics import confusion_matrix, ConfusionMatrixDisplay\n",
    "\n",
    "cm = confusion_matrix(y_test_smenn, y_predsvm)\n",
    "cmd = ConfusionMatrixDisplay(cm, display_labels=['Active','Inactive'])\n",
    "cmd.plot()"
   ]
  },
  {
   "cell_type": "code",
   "execution_count": 9,
   "metadata": {
    "id": "k3iLsduBtObV"
   },
   "outputs": [
    {
     "name": "stdout",
     "output_type": "stream",
     "text": [
      "{'bootstrap': False, 'criterion': 'entropy', 'n_estimators': 800}\n"
     ]
    }
   ],
   "source": [
    "#Algorithm 3: Random forest\n",
    "from sklearn.ensemble import RandomForestClassifier\n",
    "rf = RandomForestClassifier()\n",
    "# Create the parameter grid based on the results of random search \n",
    "grid_param = {\n",
    "    'n_estimators': [100, 300, 500, 800, 1000],\n",
    "    'criterion': ['gini', 'entropy'],\n",
    "    'bootstrap': [True, False]\n",
    "}\n",
    "gd_sr = GridSearchCV(estimator=rf,\n",
    "                     param_grid=grid_param,\n",
    "                     scoring='accuracy',\n",
    "                     cv=5,\n",
    "                     n_jobs=-1)\n",
    "gd_sr.fit(X_train_smenn, y_train_smenn)\n",
    "best_parameters = gd_sr.best_params_\n",
    "print(best_parameters)"
   ]
  },
  {
   "cell_type": "code",
   "execution_count": 10,
   "metadata": {
    "colab": {
     "base_uri": "https://localhost:8080/"
    },
    "executionInfo": {
     "elapsed": 487,
     "status": "ok",
     "timestamp": 1672859854364,
     "user": {
      "displayName": "MUTHUSARAVANAN S",
      "userId": "11781134045498187958"
     },
     "user_tz": -330
    },
    "id": "qHX_6u9ozS0V",
    "outputId": "825a2d1a-df58-4406-d940-cec50fb883e1"
   },
   "outputs": [
    {
     "name": "stdout",
     "output_type": "stream",
     "text": [
      "\n",
      "Accuracy:  0.866704732901916\n",
      "\n",
      "MCC: 0.7160971769362496\n",
      "\n",
      "Sensitivity:  0.8685446009389671\n",
      "\n",
      "Specificity:  0.8648648648648649\n",
      "\n",
      "Recall:  0.8685446009389671\n",
      "\n",
      "Precision:  0.925\n",
      "\n",
      "Area under the ROC curve:  0.866704732901916\n",
      "\n",
      "F1 score:  0.8958837772397094\n"
     ]
    }
   ],
   "source": [
    "from sklearn.ensemble import RandomForestClassifier\n",
    "rf1 = RandomForestClassifier(bootstrap=False, n_estimators=800, criterion=\"entropy\")\n",
    "rf1.fit(X_train_smenn, y_train_smenn)\n",
    "y_predrf1 = rf1.predict(X_test_smenn)\n",
    "#Model Evaluation\n",
    "tn, fp, fn, tp = confusion_matrix(y_test_smenn, y_predrf1).ravel()\n",
    "MCC = matthews_corrcoef(y_test_smenn, y_predrf1)\n",
    "accuracy = balanced_accuracy_score(y_test_smenn, y_predrf1)\n",
    "sensitivity = tp/(tp+fn)\n",
    "specificity = tn/(tn+fp)\n",
    "recall = recall_score(y_test_smenn, y_predrf1)\n",
    "precision = precision_score(y_test_smenn, y_predrf1)\n",
    "roc_auc = roc_auc_score(y_test_smenn, y_predrf1)\n",
    "f1 = f1_score(y_test_smenn, y_predrf1)\n",
    "print('\\nAccuracy: ', accuracy)\n",
    "print('\\nMCC:', MCC)\n",
    "print('\\nSensitivity: ', sensitivity)\n",
    "print('\\nSpecificity: ', specificity)\n",
    "print('\\nRecall: ', recall)\n",
    "print('\\nPrecision: ', precision)\n",
    "print('\\nArea under the ROC curve: ', roc_auc)\n",
    "print('\\nF1 score: ', f1)"
   ]
  },
  {
   "cell_type": "code",
   "execution_count": 11,
   "metadata": {
    "colab": {
     "base_uri": "https://localhost:8080/",
     "height": 297
    },
    "executionInfo": {
     "elapsed": 1005,
     "status": "ok",
     "timestamp": 1672859900442,
     "user": {
      "displayName": "MUTHUSARAVANAN S",
      "userId": "11781134045498187958"
     },
     "user_tz": -330
    },
    "id": "qjVm0Tr3zHR3",
    "outputId": "2e258ca2-41e9-46f9-817e-01667b109642"
   },
   "outputs": [
    {
     "data": {
      "text/plain": [
       "<sklearn.metrics._plot.confusion_matrix.ConfusionMatrixDisplay at 0x1811596afa0>"
      ]
     },
     "execution_count": 11,
     "metadata": {},
     "output_type": "execute_result"
    },
    {
     "data": {
      "image/png": "[encoded data removed]",
      "text/plain": [
       "<Figure size 640x480 with 2 Axes>"
      ]
     },
     "metadata": {},
     "output_type": "display_data"
    }
   ],
   "source": [
    "import seaborn as sns \n",
    "from sklearn.metrics import confusion_matrix, ConfusionMatrixDisplay\n",
    "cm = confusion_matrix(y_test_smenn, y_predrf1)\n",
    "cmd = ConfusionMatrixDisplay(cm, display_labels=['Active','Inactive'])\n",
    "cmd.plot()"
   ]
  },
  {
   "cell_type": "code",
   "execution_count": 12,
   "metadata": {
    "id": "Dozj2o3J3uQr"
   },
   "outputs": [
    {
     "name": "stderr",
     "output_type": "stream",
     "text": [
      "C:\\Users\\91830\\anaconda3\\lib\\site-packages\\sklearn\\neural_network\\_multilayer_perceptron.py:692: ConvergenceWarning: Stochastic Optimizer: Maximum iterations (200) reached and the optimization hasn't converged yet.\n",
      "  warnings.warn(\n",
      "C:\\Users\\91830\\anaconda3\\lib\\site-packages\\sklearn\\neural_network\\_multilayer_perceptron.py:692: ConvergenceWarning: Stochastic Optimizer: Maximum iterations (200) reached and the optimization hasn't converged yet.\n",
      "  warnings.warn(\n",
      "C:\\Users\\91830\\anaconda3\\lib\\site-packages\\sklearn\\neural_network\\_multilayer_perceptron.py:692: ConvergenceWarning: Stochastic Optimizer: Maximum iterations (200) reached and the optimization hasn't converged yet.\n",
      "  warnings.warn(\n",
      "C:\\Users\\91830\\anaconda3\\lib\\site-packages\\sklearn\\neural_network\\_multilayer_perceptron.py:692: ConvergenceWarning: Stochastic Optimizer: Maximum iterations (200) reached and the optimization hasn't converged yet.\n",
      "  warnings.warn(\n",
      "C:\\Users\\91830\\anaconda3\\lib\\site-packages\\sklearn\\neural_network\\_multilayer_perceptron.py:692: ConvergenceWarning: Stochastic Optimizer: Maximum iterations (200) reached and the optimization hasn't converged yet.\n",
      "  warnings.warn(\n",
      "C:\\Users\\91830\\anaconda3\\lib\\site-packages\\sklearn\\neural_network\\_multilayer_perceptron.py:692: ConvergenceWarning: Stochastic Optimizer: Maximum iterations (200) reached and the optimization hasn't converged yet.\n",
      "  warnings.warn(\n",
      "C:\\Users\\91830\\anaconda3\\lib\\site-packages\\sklearn\\neural_network\\_multilayer_perceptron.py:692: ConvergenceWarning: Stochastic Optimizer: Maximum iterations (200) reached and the optimization hasn't converged yet.\n",
      "  warnings.warn(\n",
      "C:\\Users\\91830\\anaconda3\\lib\\site-packages\\sklearn\\neural_network\\_multilayer_perceptron.py:692: ConvergenceWarning: Stochastic Optimizer: Maximum iterations (200) reached and the optimization hasn't converged yet.\n",
      "  warnings.warn(\n",
      "C:\\Users\\91830\\anaconda3\\lib\\site-packages\\sklearn\\neural_network\\_multilayer_perceptron.py:692: ConvergenceWarning: Stochastic Optimizer: Maximum iterations (200) reached and the optimization hasn't converged yet.\n",
      "  warnings.warn(\n",
      "C:\\Users\\91830\\anaconda3\\lib\\site-packages\\sklearn\\neural_network\\_multilayer_perceptron.py:692: ConvergenceWarning: Stochastic Optimizer: Maximum iterations (200) reached and the optimization hasn't converged yet.\n",
      "  warnings.warn(\n",
      "C:\\Users\\91830\\anaconda3\\lib\\site-packages\\sklearn\\neural_network\\_multilayer_perceptron.py:692: ConvergenceWarning: Stochastic Optimizer: Maximum iterations (200) reached and the optimization hasn't converged yet.\n",
      "  warnings.warn(\n",
      "C:\\Users\\91830\\anaconda3\\lib\\site-packages\\sklearn\\neural_network\\_multilayer_perceptron.py:692: ConvergenceWarning: Stochastic Optimizer: Maximum iterations (200) reached and the optimization hasn't converged yet.\n",
      "  warnings.warn(\n",
      "C:\\Users\\91830\\anaconda3\\lib\\site-packages\\sklearn\\neural_network\\_multilayer_perceptron.py:692: ConvergenceWarning: Stochastic Optimizer: Maximum iterations (200) reached and the optimization hasn't converged yet.\n",
      "  warnings.warn(\n",
      "C:\\Users\\91830\\anaconda3\\lib\\site-packages\\sklearn\\neural_network\\_multilayer_perceptron.py:692: ConvergenceWarning: Stochastic Optimizer: Maximum iterations (200) reached and the optimization hasn't converged yet.\n",
      "  warnings.warn(\n",
      "C:\\Users\\91830\\anaconda3\\lib\\site-packages\\sklearn\\neural_network\\_multilayer_perceptron.py:692: ConvergenceWarning: Stochastic Optimizer: Maximum iterations (200) reached and the optimization hasn't converged yet.\n",
      "  warnings.warn(\n",
      "C:\\Users\\91830\\anaconda3\\lib\\site-packages\\sklearn\\neural_network\\_multilayer_perceptron.py:692: ConvergenceWarning: Stochastic Optimizer: Maximum iterations (200) reached and the optimization hasn't converged yet.\n",
      "  warnings.warn(\n",
      "C:\\Users\\91830\\anaconda3\\lib\\site-packages\\sklearn\\neural_network\\_multilayer_perceptron.py:692: ConvergenceWarning: Stochastic Optimizer: Maximum iterations (200) reached and the optimization hasn't converged yet.\n",
      "  warnings.warn(\n",
      "C:\\Users\\91830\\anaconda3\\lib\\site-packages\\sklearn\\neural_network\\_multilayer_perceptron.py:692: ConvergenceWarning: Stochastic Optimizer: Maximum iterations (200) reached and the optimization hasn't converged yet.\n",
      "  warnings.warn(\n",
      "C:\\Users\\91830\\anaconda3\\lib\\site-packages\\sklearn\\neural_network\\_multilayer_perceptron.py:692: ConvergenceWarning: Stochastic Optimizer: Maximum iterations (200) reached and the optimization hasn't converged yet.\n",
      "  warnings.warn(\n",
      "C:\\Users\\91830\\anaconda3\\lib\\site-packages\\sklearn\\neural_network\\_multilayer_perceptron.py:692: ConvergenceWarning: Stochastic Optimizer: Maximum iterations (200) reached and the optimization hasn't converged yet.\n",
      "  warnings.warn(\n",
      "C:\\Users\\91830\\anaconda3\\lib\\site-packages\\sklearn\\neural_network\\_multilayer_perceptron.py:692: ConvergenceWarning: Stochastic Optimizer: Maximum iterations (200) reached and the optimization hasn't converged yet.\n",
      "  warnings.warn(\n",
      "C:\\Users\\91830\\anaconda3\\lib\\site-packages\\sklearn\\neural_network\\_multilayer_perceptron.py:692: ConvergenceWarning: Stochastic Optimizer: Maximum iterations (200) reached and the optimization hasn't converged yet.\n",
      "  warnings.warn(\n",
      "C:\\Users\\91830\\anaconda3\\lib\\site-packages\\sklearn\\neural_network\\_multilayer_perceptron.py:692: ConvergenceWarning: Stochastic Optimizer: Maximum iterations (200) reached and the optimization hasn't converged yet.\n",
      "  warnings.warn(\n",
      "C:\\Users\\91830\\anaconda3\\lib\\site-packages\\sklearn\\neural_network\\_multilayer_perceptron.py:692: ConvergenceWarning: Stochastic Optimizer: Maximum iterations (200) reached and the optimization hasn't converged yet.\n",
      "  warnings.warn(\n",
      "C:\\Users\\91830\\anaconda3\\lib\\site-packages\\sklearn\\neural_network\\_multilayer_perceptron.py:692: ConvergenceWarning: Stochastic Optimizer: Maximum iterations (200) reached and the optimization hasn't converged yet.\n",
      "  warnings.warn(\n",
      "C:\\Users\\91830\\anaconda3\\lib\\site-packages\\sklearn\\neural_network\\_multilayer_perceptron.py:692: ConvergenceWarning: Stochastic Optimizer: Maximum iterations (200) reached and the optimization hasn't converged yet.\n",
      "  warnings.warn(\n",
      "C:\\Users\\91830\\anaconda3\\lib\\site-packages\\sklearn\\neural_network\\_multilayer_perceptron.py:692: ConvergenceWarning: Stochastic Optimizer: Maximum iterations (200) reached and the optimization hasn't converged yet.\n",
      "  warnings.warn(\n",
      "C:\\Users\\91830\\anaconda3\\lib\\site-packages\\sklearn\\neural_network\\_multilayer_perceptron.py:692: ConvergenceWarning: Stochastic Optimizer: Maximum iterations (200) reached and the optimization hasn't converged yet.\n",
      "  warnings.warn(\n",
      "C:\\Users\\91830\\anaconda3\\lib\\site-packages\\sklearn\\neural_network\\_multilayer_perceptron.py:692: ConvergenceWarning: Stochastic Optimizer: Maximum iterations (200) reached and the optimization hasn't converged yet.\n",
      "  warnings.warn(\n",
      "C:\\Users\\91830\\anaconda3\\lib\\site-packages\\sklearn\\neural_network\\_multilayer_perceptron.py:692: ConvergenceWarning: Stochastic Optimizer: Maximum iterations (200) reached and the optimization hasn't converged yet.\n",
      "  warnings.warn(\n",
      "C:\\Users\\91830\\anaconda3\\lib\\site-packages\\sklearn\\neural_network\\_multilayer_perceptron.py:692: ConvergenceWarning: Stochastic Optimizer: Maximum iterations (200) reached and the optimization hasn't converged yet.\n",
      "  warnings.warn(\n",
      "C:\\Users\\91830\\anaconda3\\lib\\site-packages\\sklearn\\neural_network\\_multilayer_perceptron.py:692: ConvergenceWarning: Stochastic Optimizer: Maximum iterations (200) reached and the optimization hasn't converged yet.\n",
      "  warnings.warn(\n",
      "C:\\Users\\91830\\anaconda3\\lib\\site-packages\\sklearn\\neural_network\\_multilayer_perceptron.py:692: ConvergenceWarning: Stochastic Optimizer: Maximum iterations (200) reached and the optimization hasn't converged yet.\n",
      "  warnings.warn(\n",
      "C:\\Users\\91830\\anaconda3\\lib\\site-packages\\sklearn\\neural_network\\_multilayer_perceptron.py:692: ConvergenceWarning: Stochastic Optimizer: Maximum iterations (200) reached and the optimization hasn't converged yet.\n",
      "  warnings.warn(\n",
      "C:\\Users\\91830\\anaconda3\\lib\\site-packages\\sklearn\\neural_network\\_multilayer_perceptron.py:692: ConvergenceWarning: Stochastic Optimizer: Maximum iterations (200) reached and the optimization hasn't converged yet.\n",
      "  warnings.warn(\n",
      "C:\\Users\\91830\\anaconda3\\lib\\site-packages\\sklearn\\neural_network\\_multilayer_perceptron.py:692: ConvergenceWarning: Stochastic Optimizer: Maximum iterations (200) reached and the optimization hasn't converged yet.\n",
      "  warnings.warn(\n"
     ]
    },
    {
     "name": "stderr",
     "output_type": "stream",
     "text": [
      "C:\\Users\\91830\\anaconda3\\lib\\site-packages\\sklearn\\neural_network\\_multilayer_perceptron.py:692: ConvergenceWarning: Stochastic Optimizer: Maximum iterations (200) reached and the optimization hasn't converged yet.\n",
      "  warnings.warn(\n",
      "C:\\Users\\91830\\anaconda3\\lib\\site-packages\\sklearn\\neural_network\\_multilayer_perceptron.py:692: ConvergenceWarning: Stochastic Optimizer: Maximum iterations (200) reached and the optimization hasn't converged yet.\n",
      "  warnings.warn(\n",
      "C:\\Users\\91830\\anaconda3\\lib\\site-packages\\sklearn\\neural_network\\_multilayer_perceptron.py:692: ConvergenceWarning: Stochastic Optimizer: Maximum iterations (200) reached and the optimization hasn't converged yet.\n",
      "  warnings.warn(\n",
      "C:\\Users\\91830\\anaconda3\\lib\\site-packages\\sklearn\\neural_network\\_multilayer_perceptron.py:692: ConvergenceWarning: Stochastic Optimizer: Maximum iterations (200) reached and the optimization hasn't converged yet.\n",
      "  warnings.warn(\n",
      "C:\\Users\\91830\\anaconda3\\lib\\site-packages\\sklearn\\neural_network\\_multilayer_perceptron.py:692: ConvergenceWarning: Stochastic Optimizer: Maximum iterations (200) reached and the optimization hasn't converged yet.\n",
      "  warnings.warn(\n",
      "C:\\Users\\91830\\anaconda3\\lib\\site-packages\\sklearn\\neural_network\\_multilayer_perceptron.py:692: ConvergenceWarning: Stochastic Optimizer: Maximum iterations (200) reached and the optimization hasn't converged yet.\n",
      "  warnings.warn(\n",
      "C:\\Users\\91830\\anaconda3\\lib\\site-packages\\sklearn\\neural_network\\_multilayer_perceptron.py:692: ConvergenceWarning: Stochastic Optimizer: Maximum iterations (200) reached and the optimization hasn't converged yet.\n",
      "  warnings.warn(\n",
      "C:\\Users\\91830\\anaconda3\\lib\\site-packages\\sklearn\\neural_network\\_multilayer_perceptron.py:692: ConvergenceWarning: Stochastic Optimizer: Maximum iterations (200) reached and the optimization hasn't converged yet.\n",
      "  warnings.warn(\n",
      "C:\\Users\\91830\\anaconda3\\lib\\site-packages\\sklearn\\neural_network\\_multilayer_perceptron.py:692: ConvergenceWarning: Stochastic Optimizer: Maximum iterations (200) reached and the optimization hasn't converged yet.\n",
      "  warnings.warn(\n",
      "C:\\Users\\91830\\anaconda3\\lib\\site-packages\\sklearn\\neural_network\\_multilayer_perceptron.py:692: ConvergenceWarning: Stochastic Optimizer: Maximum iterations (200) reached and the optimization hasn't converged yet.\n",
      "  warnings.warn(\n",
      "C:\\Users\\91830\\anaconda3\\lib\\site-packages\\sklearn\\neural_network\\_multilayer_perceptron.py:692: ConvergenceWarning: Stochastic Optimizer: Maximum iterations (200) reached and the optimization hasn't converged yet.\n",
      "  warnings.warn(\n",
      "C:\\Users\\91830\\anaconda3\\lib\\site-packages\\sklearn\\neural_network\\_multilayer_perceptron.py:692: ConvergenceWarning: Stochastic Optimizer: Maximum iterations (200) reached and the optimization hasn't converged yet.\n",
      "  warnings.warn(\n",
      "C:\\Users\\91830\\anaconda3\\lib\\site-packages\\sklearn\\neural_network\\_multilayer_perceptron.py:692: ConvergenceWarning: Stochastic Optimizer: Maximum iterations (200) reached and the optimization hasn't converged yet.\n",
      "  warnings.warn(\n",
      "C:\\Users\\91830\\anaconda3\\lib\\site-packages\\sklearn\\neural_network\\_multilayer_perceptron.py:692: ConvergenceWarning: Stochastic Optimizer: Maximum iterations (200) reached and the optimization hasn't converged yet.\n",
      "  warnings.warn(\n",
      "C:\\Users\\91830\\anaconda3\\lib\\site-packages\\sklearn\\neural_network\\_multilayer_perceptron.py:692: ConvergenceWarning: Stochastic Optimizer: Maximum iterations (200) reached and the optimization hasn't converged yet.\n",
      "  warnings.warn(\n",
      "C:\\Users\\91830\\anaconda3\\lib\\site-packages\\sklearn\\neural_network\\_multilayer_perceptron.py:692: ConvergenceWarning: Stochastic Optimizer: Maximum iterations (200) reached and the optimization hasn't converged yet.\n",
      "  warnings.warn(\n",
      "C:\\Users\\91830\\anaconda3\\lib\\site-packages\\sklearn\\neural_network\\_multilayer_perceptron.py:692: ConvergenceWarning: Stochastic Optimizer: Maximum iterations (200) reached and the optimization hasn't converged yet.\n",
      "  warnings.warn(\n",
      "C:\\Users\\91830\\anaconda3\\lib\\site-packages\\sklearn\\neural_network\\_multilayer_perceptron.py:692: ConvergenceWarning: Stochastic Optimizer: Maximum iterations (200) reached and the optimization hasn't converged yet.\n",
      "  warnings.warn(\n",
      "C:\\Users\\91830\\anaconda3\\lib\\site-packages\\sklearn\\neural_network\\_multilayer_perceptron.py:692: ConvergenceWarning: Stochastic Optimizer: Maximum iterations (200) reached and the optimization hasn't converged yet.\n",
      "  warnings.warn(\n",
      "C:\\Users\\91830\\anaconda3\\lib\\site-packages\\sklearn\\neural_network\\_multilayer_perceptron.py:692: ConvergenceWarning: Stochastic Optimizer: Maximum iterations (200) reached and the optimization hasn't converged yet.\n",
      "  warnings.warn(\n",
      "C:\\Users\\91830\\anaconda3\\lib\\site-packages\\sklearn\\neural_network\\_multilayer_perceptron.py:692: ConvergenceWarning: Stochastic Optimizer: Maximum iterations (200) reached and the optimization hasn't converged yet.\n",
      "  warnings.warn(\n",
      "C:\\Users\\91830\\anaconda3\\lib\\site-packages\\sklearn\\neural_network\\_multilayer_perceptron.py:692: ConvergenceWarning: Stochastic Optimizer: Maximum iterations (200) reached and the optimization hasn't converged yet.\n",
      "  warnings.warn(\n",
      "C:\\Users\\91830\\anaconda3\\lib\\site-packages\\sklearn\\neural_network\\_multilayer_perceptron.py:692: ConvergenceWarning: Stochastic Optimizer: Maximum iterations (200) reached and the optimization hasn't converged yet.\n",
      "  warnings.warn(\n",
      "C:\\Users\\91830\\anaconda3\\lib\\site-packages\\sklearn\\neural_network\\_multilayer_perceptron.py:692: ConvergenceWarning: Stochastic Optimizer: Maximum iterations (200) reached and the optimization hasn't converged yet.\n",
      "  warnings.warn(\n",
      "C:\\Users\\91830\\anaconda3\\lib\\site-packages\\sklearn\\neural_network\\_multilayer_perceptron.py:692: ConvergenceWarning: Stochastic Optimizer: Maximum iterations (200) reached and the optimization hasn't converged yet.\n",
      "  warnings.warn(\n",
      "C:\\Users\\91830\\anaconda3\\lib\\site-packages\\sklearn\\neural_network\\_multilayer_perceptron.py:692: ConvergenceWarning: Stochastic Optimizer: Maximum iterations (200) reached and the optimization hasn't converged yet.\n",
      "  warnings.warn(\n",
      "C:\\Users\\91830\\anaconda3\\lib\\site-packages\\sklearn\\neural_network\\_multilayer_perceptron.py:692: ConvergenceWarning: Stochastic Optimizer: Maximum iterations (200) reached and the optimization hasn't converged yet.\n",
      "  warnings.warn(\n",
      "C:\\Users\\91830\\anaconda3\\lib\\site-packages\\sklearn\\neural_network\\_multilayer_perceptron.py:692: ConvergenceWarning: Stochastic Optimizer: Maximum iterations (200) reached and the optimization hasn't converged yet.\n",
      "  warnings.warn(\n",
      "C:\\Users\\91830\\anaconda3\\lib\\site-packages\\sklearn\\neural_network\\_multilayer_perceptron.py:692: ConvergenceWarning: Stochastic Optimizer: Maximum iterations (200) reached and the optimization hasn't converged yet.\n",
      "  warnings.warn(\n",
      "C:\\Users\\91830\\anaconda3\\lib\\site-packages\\sklearn\\neural_network\\_multilayer_perceptron.py:692: ConvergenceWarning: Stochastic Optimizer: Maximum iterations (200) reached and the optimization hasn't converged yet.\n",
      "  warnings.warn(\n",
      "C:\\Users\\91830\\anaconda3\\lib\\site-packages\\sklearn\\neural_network\\_multilayer_perceptron.py:692: ConvergenceWarning: Stochastic Optimizer: Maximum iterations (200) reached and the optimization hasn't converged yet.\n",
      "  warnings.warn(\n",
      "C:\\Users\\91830\\anaconda3\\lib\\site-packages\\sklearn\\neural_network\\_multilayer_perceptron.py:692: ConvergenceWarning: Stochastic Optimizer: Maximum iterations (200) reached and the optimization hasn't converged yet.\n",
      "  warnings.warn(\n",
      "C:\\Users\\91830\\anaconda3\\lib\\site-packages\\sklearn\\neural_network\\_multilayer_perceptron.py:692: ConvergenceWarning: Stochastic Optimizer: Maximum iterations (200) reached and the optimization hasn't converged yet.\n",
      "  warnings.warn(\n",
      "C:\\Users\\91830\\anaconda3\\lib\\site-packages\\sklearn\\neural_network\\_multilayer_perceptron.py:692: ConvergenceWarning: Stochastic Optimizer: Maximum iterations (200) reached and the optimization hasn't converged yet.\n",
      "  warnings.warn(\n",
      "C:\\Users\\91830\\anaconda3\\lib\\site-packages\\sklearn\\neural_network\\_multilayer_perceptron.py:692: ConvergenceWarning: Stochastic Optimizer: Maximum iterations (200) reached and the optimization hasn't converged yet.\n",
      "  warnings.warn(\n",
      "C:\\Users\\91830\\anaconda3\\lib\\site-packages\\sklearn\\neural_network\\_multilayer_perceptron.py:692: ConvergenceWarning: Stochastic Optimizer: Maximum iterations (200) reached and the optimization hasn't converged yet.\n",
      "  warnings.warn(\n"
     ]
    },
    {
     "name": "stderr",
     "output_type": "stream",
     "text": [
      "C:\\Users\\91830\\anaconda3\\lib\\site-packages\\sklearn\\neural_network\\_multilayer_perceptron.py:692: ConvergenceWarning: Stochastic Optimizer: Maximum iterations (200) reached and the optimization hasn't converged yet.\n",
      "  warnings.warn(\n",
      "C:\\Users\\91830\\anaconda3\\lib\\site-packages\\sklearn\\neural_network\\_multilayer_perceptron.py:692: ConvergenceWarning: Stochastic Optimizer: Maximum iterations (200) reached and the optimization hasn't converged yet.\n",
      "  warnings.warn(\n",
      "C:\\Users\\91830\\anaconda3\\lib\\site-packages\\sklearn\\neural_network\\_multilayer_perceptron.py:692: ConvergenceWarning: Stochastic Optimizer: Maximum iterations (200) reached and the optimization hasn't converged yet.\n",
      "  warnings.warn(\n",
      "C:\\Users\\91830\\anaconda3\\lib\\site-packages\\sklearn\\neural_network\\_multilayer_perceptron.py:692: ConvergenceWarning: Stochastic Optimizer: Maximum iterations (200) reached and the optimization hasn't converged yet.\n",
      "  warnings.warn(\n",
      "C:\\Users\\91830\\anaconda3\\lib\\site-packages\\sklearn\\neural_network\\_multilayer_perceptron.py:692: ConvergenceWarning: Stochastic Optimizer: Maximum iterations (200) reached and the optimization hasn't converged yet.\n",
      "  warnings.warn(\n",
      "C:\\Users\\91830\\anaconda3\\lib\\site-packages\\sklearn\\neural_network\\_multilayer_perceptron.py:692: ConvergenceWarning: Stochastic Optimizer: Maximum iterations (200) reached and the optimization hasn't converged yet.\n",
      "  warnings.warn(\n",
      "C:\\Users\\91830\\anaconda3\\lib\\site-packages\\sklearn\\neural_network\\_multilayer_perceptron.py:692: ConvergenceWarning: Stochastic Optimizer: Maximum iterations (200) reached and the optimization hasn't converged yet.\n",
      "  warnings.warn(\n",
      "C:\\Users\\91830\\anaconda3\\lib\\site-packages\\sklearn\\neural_network\\_multilayer_perceptron.py:692: ConvergenceWarning: Stochastic Optimizer: Maximum iterations (200) reached and the optimization hasn't converged yet.\n",
      "  warnings.warn(\n",
      "C:\\Users\\91830\\anaconda3\\lib\\site-packages\\sklearn\\neural_network\\_multilayer_perceptron.py:692: ConvergenceWarning: Stochastic Optimizer: Maximum iterations (200) reached and the optimization hasn't converged yet.\n",
      "  warnings.warn(\n",
      "C:\\Users\\91830\\anaconda3\\lib\\site-packages\\sklearn\\utils\\extmath.py:153: RuntimeWarning: overflow encountered in matmul\n",
      "  ret = a @ b\n",
      "C:\\Users\\91830\\anaconda3\\lib\\site-packages\\sklearn\\neural_network\\_multilayer_perceptron.py:692: ConvergenceWarning: Stochastic Optimizer: Maximum iterations (200) reached and the optimization hasn't converged yet.\n",
      "  warnings.warn(\n",
      "C:\\Users\\91830\\anaconda3\\lib\\site-packages\\sklearn\\utils\\extmath.py:153: RuntimeWarning: overflow encountered in matmul\n",
      "  ret = a @ b\n",
      "C:\\Users\\91830\\anaconda3\\lib\\site-packages\\sklearn\\utils\\extmath.py:153: RuntimeWarning: invalid value encountered in matmul\n",
      "  ret = a @ b\n",
      "C:\\Users\\91830\\anaconda3\\lib\\site-packages\\sklearn\\neural_network\\_multilayer_perceptron.py:692: ConvergenceWarning: Stochastic Optimizer: Maximum iterations (200) reached and the optimization hasn't converged yet.\n",
      "  warnings.warn(\n",
      "C:\\Users\\91830\\anaconda3\\lib\\site-packages\\sklearn\\utils\\extmath.py:153: RuntimeWarning: overflow encountered in matmul\n",
      "  ret = a @ b\n",
      "C:\\Users\\91830\\anaconda3\\lib\\site-packages\\sklearn\\utils\\extmath.py:153: RuntimeWarning: invalid value encountered in matmul\n",
      "  ret = a @ b\n",
      "C:\\Users\\91830\\anaconda3\\lib\\site-packages\\sklearn\\neural_network\\_multilayer_perceptron.py:692: ConvergenceWarning: Stochastic Optimizer: Maximum iterations (200) reached and the optimization hasn't converged yet.\n",
      "  warnings.warn(\n",
      "C:\\Users\\91830\\anaconda3\\lib\\site-packages\\sklearn\\utils\\extmath.py:153: RuntimeWarning: overflow encountered in matmul\n",
      "  ret = a @ b\n",
      "C:\\Users\\91830\\anaconda3\\lib\\site-packages\\sklearn\\utils\\extmath.py:153: RuntimeWarning: invalid value encountered in matmul\n",
      "  ret = a @ b\n",
      "C:\\Users\\91830\\anaconda3\\lib\\site-packages\\sklearn\\neural_network\\_multilayer_perceptron.py:692: ConvergenceWarning: Stochastic Optimizer: Maximum iterations (200) reached and the optimization hasn't converged yet.\n",
      "  warnings.warn(\n",
      "C:\\Users\\91830\\anaconda3\\lib\\site-packages\\sklearn\\utils\\extmath.py:153: RuntimeWarning: overflow encountered in matmul\n",
      "  ret = a @ b\n",
      "C:\\Users\\91830\\anaconda3\\lib\\site-packages\\sklearn\\utils\\extmath.py:153: RuntimeWarning: invalid value encountered in matmul\n",
      "  ret = a @ b\n",
      "C:\\Users\\91830\\anaconda3\\lib\\site-packages\\sklearn\\neural_network\\_multilayer_perceptron.py:692: ConvergenceWarning: Stochastic Optimizer: Maximum iterations (200) reached and the optimization hasn't converged yet.\n",
      "  warnings.warn(\n",
      "C:\\Users\\91830\\anaconda3\\lib\\site-packages\\sklearn\\utils\\extmath.py:153: RuntimeWarning: overflow encountered in matmul\n",
      "  ret = a @ b\n",
      "C:\\Users\\91830\\anaconda3\\lib\\site-packages\\sklearn\\utils\\extmath.py:153: RuntimeWarning: overflow encountered in matmul\n",
      "  ret = a @ b\n",
      "C:\\Users\\91830\\anaconda3\\lib\\site-packages\\sklearn\\utils\\extmath.py:153: RuntimeWarning: overflow encountered in matmul\n",
      "  ret = a @ b\n",
      "C:\\Users\\91830\\anaconda3\\lib\\site-packages\\sklearn\\utils\\extmath.py:153: RuntimeWarning: invalid value encountered in matmul\n",
      "  ret = a @ b\n",
      "C:\\Users\\91830\\anaconda3\\lib\\site-packages\\sklearn\\neural_network\\_multilayer_perceptron.py:692: ConvergenceWarning: Stochastic Optimizer: Maximum iterations (200) reached and the optimization hasn't converged yet.\n",
      "  warnings.warn(\n",
      "C:\\Users\\91830\\anaconda3\\lib\\site-packages\\sklearn\\neural_network\\_multilayer_perceptron.py:692: ConvergenceWarning: Stochastic Optimizer: Maximum iterations (200) reached and the optimization hasn't converged yet.\n",
      "  warnings.warn(\n",
      "C:\\Users\\91830\\anaconda3\\lib\\site-packages\\sklearn\\neural_network\\_multilayer_perceptron.py:692: ConvergenceWarning: Stochastic Optimizer: Maximum iterations (200) reached and the optimization hasn't converged yet.\n",
      "  warnings.warn(\n",
      "C:\\Users\\91830\\anaconda3\\lib\\site-packages\\sklearn\\utils\\extmath.py:153: RuntimeWarning: overflow encountered in matmul\n",
      "  ret = a @ b\n",
      "C:\\Users\\91830\\anaconda3\\lib\\site-packages\\sklearn\\neural_network\\_multilayer_perceptron.py:692: ConvergenceWarning: Stochastic Optimizer: Maximum iterations (200) reached and the optimization hasn't converged yet.\n",
      "  warnings.warn(\n",
      "C:\\Users\\91830\\anaconda3\\lib\\site-packages\\sklearn\\utils\\extmath.py:153: RuntimeWarning: overflow encountered in matmul\n",
      "  ret = a @ b\n",
      "C:\\Users\\91830\\anaconda3\\lib\\site-packages\\sklearn\\neural_network\\_multilayer_perceptron.py:692: ConvergenceWarning: Stochastic Optimizer: Maximum iterations (200) reached and the optimization hasn't converged yet.\n",
      "  warnings.warn(\n",
      "C:\\Users\\91830\\anaconda3\\lib\\site-packages\\sklearn\\utils\\extmath.py:153: RuntimeWarning: overflow encountered in matmul\n",
      "  ret = a @ b\n",
      "C:\\Users\\91830\\anaconda3\\lib\\site-packages\\sklearn\\utils\\extmath.py:153: RuntimeWarning: invalid value encountered in matmul\n",
      "  ret = a @ b\n",
      "C:\\Users\\91830\\anaconda3\\lib\\site-packages\\sklearn\\neural_network\\_multilayer_perceptron.py:692: ConvergenceWarning: Stochastic Optimizer: Maximum iterations (200) reached and the optimization hasn't converged yet.\n",
      "  warnings.warn(\n",
      "C:\\Users\\91830\\anaconda3\\lib\\site-packages\\sklearn\\utils\\extmath.py:153: RuntimeWarning: overflow encountered in matmul\n",
      "  ret = a @ b\n",
      "C:\\Users\\91830\\anaconda3\\lib\\site-packages\\sklearn\\neural_network\\_multilayer_perceptron.py:692: ConvergenceWarning: Stochastic Optimizer: Maximum iterations (200) reached and the optimization hasn't converged yet.\n",
      "  warnings.warn(\n",
      "C:\\Users\\91830\\anaconda3\\lib\\site-packages\\sklearn\\utils\\extmath.py:153: RuntimeWarning: overflow encountered in matmul\n",
      "  ret = a @ b\n",
      "C:\\Users\\91830\\anaconda3\\lib\\site-packages\\sklearn\\utils\\extmath.py:153: RuntimeWarning: invalid value encountered in matmul\n",
      "  ret = a @ b\n",
      "C:\\Users\\91830\\anaconda3\\lib\\site-packages\\sklearn\\neural_network\\_multilayer_perceptron.py:692: ConvergenceWarning: Stochastic Optimizer: Maximum iterations (200) reached and the optimization hasn't converged yet.\n",
      "  warnings.warn(\n",
      "C:\\Users\\91830\\anaconda3\\lib\\site-packages\\sklearn\\utils\\extmath.py:153: RuntimeWarning: overflow encountered in matmul\n",
      "  ret = a @ b\n",
      "C:\\Users\\91830\\anaconda3\\lib\\site-packages\\sklearn\\utils\\extmath.py:153: RuntimeWarning: invalid value encountered in matmul\n",
      "  ret = a @ b\n",
      "C:\\Users\\91830\\anaconda3\\lib\\site-packages\\sklearn\\neural_network\\_multilayer_perceptron.py:692: ConvergenceWarning: Stochastic Optimizer: Maximum iterations (200) reached and the optimization hasn't converged yet.\n",
      "  warnings.warn(\n",
      "C:\\Users\\91830\\anaconda3\\lib\\site-packages\\sklearn\\utils\\extmath.py:153: RuntimeWarning: overflow encountered in matmul\n",
      "  ret = a @ b\n",
      "C:\\Users\\91830\\anaconda3\\lib\\site-packages\\sklearn\\utils\\extmath.py:153: RuntimeWarning: invalid value encountered in matmul\n",
      "  ret = a @ b\n"
     ]
    },
    {
     "name": "stderr",
     "output_type": "stream",
     "text": [
      "C:\\Users\\91830\\anaconda3\\lib\\site-packages\\sklearn\\neural_network\\_multilayer_perceptron.py:692: ConvergenceWarning: Stochastic Optimizer: Maximum iterations (200) reached and the optimization hasn't converged yet.\n",
      "  warnings.warn(\n",
      "C:\\Users\\91830\\anaconda3\\lib\\site-packages\\sklearn\\utils\\extmath.py:153: RuntimeWarning: overflow encountered in matmul\n",
      "  ret = a @ b\n",
      "C:\\Users\\91830\\anaconda3\\lib\\site-packages\\sklearn\\utils\\extmath.py:153: RuntimeWarning: invalid value encountered in matmul\n",
      "  ret = a @ b\n",
      "C:\\Users\\91830\\anaconda3\\lib\\site-packages\\sklearn\\neural_network\\_multilayer_perceptron.py:692: ConvergenceWarning: Stochastic Optimizer: Maximum iterations (200) reached and the optimization hasn't converged yet.\n",
      "  warnings.warn(\n",
      "C:\\Users\\91830\\anaconda3\\lib\\site-packages\\sklearn\\utils\\extmath.py:153: RuntimeWarning: overflow encountered in matmul\n",
      "  ret = a @ b\n",
      "C:\\Users\\91830\\anaconda3\\lib\\site-packages\\sklearn\\utils\\extmath.py:153: RuntimeWarning: overflow encountered in matmul\n",
      "  ret = a @ b\n",
      "C:\\Users\\91830\\anaconda3\\lib\\site-packages\\sklearn\\utils\\extmath.py:153: RuntimeWarning: overflow encountered in matmul\n",
      "  ret = a @ b\n",
      "C:\\Users\\91830\\anaconda3\\lib\\site-packages\\sklearn\\neural_network\\_multilayer_perceptron.py:692: ConvergenceWarning: Stochastic Optimizer: Maximum iterations (200) reached and the optimization hasn't converged yet.\n",
      "  warnings.warn(\n",
      "C:\\Users\\91830\\anaconda3\\lib\\site-packages\\sklearn\\utils\\extmath.py:153: RuntimeWarning: overflow encountered in matmul\n",
      "  ret = a @ b\n",
      "C:\\Users\\91830\\anaconda3\\lib\\site-packages\\sklearn\\utils\\extmath.py:153: RuntimeWarning: overflow encountered in matmul\n",
      "  ret = a @ b\n",
      "C:\\Users\\91830\\anaconda3\\lib\\site-packages\\sklearn\\utils\\extmath.py:153: RuntimeWarning: overflow encountered in matmul\n",
      "  ret = a @ b\n",
      "C:\\Users\\91830\\anaconda3\\lib\\site-packages\\sklearn\\utils\\extmath.py:153: RuntimeWarning: invalid value encountered in matmul\n",
      "  ret = a @ b\n",
      "C:\\Users\\91830\\anaconda3\\lib\\site-packages\\sklearn\\neural_network\\_multilayer_perceptron.py:692: ConvergenceWarning: Stochastic Optimizer: Maximum iterations (200) reached and the optimization hasn't converged yet.\n",
      "  warnings.warn(\n",
      "C:\\Users\\91830\\anaconda3\\lib\\site-packages\\sklearn\\neural_network\\_multilayer_perceptron.py:692: ConvergenceWarning: Stochastic Optimizer: Maximum iterations (200) reached and the optimization hasn't converged yet.\n",
      "  warnings.warn(\n",
      "C:\\Users\\91830\\anaconda3\\lib\\site-packages\\sklearn\\utils\\extmath.py:153: RuntimeWarning: overflow encountered in matmul\n",
      "  ret = a @ b\n",
      "C:\\Users\\91830\\anaconda3\\lib\\site-packages\\sklearn\\utils\\extmath.py:153: RuntimeWarning: invalid value encountered in matmul\n",
      "  ret = a @ b\n",
      "C:\\Users\\91830\\anaconda3\\lib\\site-packages\\sklearn\\neural_network\\_multilayer_perceptron.py:692: ConvergenceWarning: Stochastic Optimizer: Maximum iterations (200) reached and the optimization hasn't converged yet.\n",
      "  warnings.warn(\n",
      "C:\\Users\\91830\\anaconda3\\lib\\site-packages\\sklearn\\neural_network\\_multilayer_perceptron.py:692: ConvergenceWarning: Stochastic Optimizer: Maximum iterations (200) reached and the optimization hasn't converged yet.\n",
      "  warnings.warn(\n",
      "C:\\Users\\91830\\anaconda3\\lib\\site-packages\\sklearn\\utils\\extmath.py:153: RuntimeWarning: overflow encountered in matmul\n",
      "  ret = a @ b\n",
      "C:\\Users\\91830\\anaconda3\\lib\\site-packages\\sklearn\\utils\\extmath.py:153: RuntimeWarning: overflow encountered in matmul\n",
      "  ret = a @ b\n",
      "C:\\Users\\91830\\anaconda3\\lib\\site-packages\\sklearn\\neural_network\\_multilayer_perceptron.py:692: ConvergenceWarning: Stochastic Optimizer: Maximum iterations (200) reached and the optimization hasn't converged yet.\n",
      "  warnings.warn(\n",
      "C:\\Users\\91830\\anaconda3\\lib\\site-packages\\sklearn\\utils\\extmath.py:153: RuntimeWarning: overflow encountered in matmul\n",
      "  ret = a @ b\n",
      "C:\\Users\\91830\\anaconda3\\lib\\site-packages\\sklearn\\utils\\extmath.py:153: RuntimeWarning: invalid value encountered in matmul\n",
      "  ret = a @ b\n",
      "C:\\Users\\91830\\anaconda3\\lib\\site-packages\\sklearn\\neural_network\\_multilayer_perceptron.py:692: ConvergenceWarning: Stochastic Optimizer: Maximum iterations (200) reached and the optimization hasn't converged yet.\n",
      "  warnings.warn(\n",
      "C:\\Users\\91830\\anaconda3\\lib\\site-packages\\sklearn\\utils\\extmath.py:153: RuntimeWarning: overflow encountered in matmul\n",
      "  ret = a @ b\n",
      "C:\\Users\\91830\\anaconda3\\lib\\site-packages\\numpy\\core\\_methods.py:179: RuntimeWarning: overflow encountered in reduce\n",
      "  ret = umr_sum(arr, axis, dtype, out, keepdims, where=where)\n",
      "C:\\Users\\91830\\anaconda3\\lib\\site-packages\\sklearn\\utils\\extmath.py:153: RuntimeWarning: invalid value encountered in matmul\n",
      "  ret = a @ b\n",
      "C:\\Users\\91830\\anaconda3\\lib\\site-packages\\sklearn\\neural_network\\_multilayer_perceptron.py:692: ConvergenceWarning: Stochastic Optimizer: Maximum iterations (200) reached and the optimization hasn't converged yet.\n",
      "  warnings.warn(\n",
      "C:\\Users\\91830\\anaconda3\\lib\\site-packages\\sklearn\\neural_network\\_multilayer_perceptron.py:692: ConvergenceWarning: Stochastic Optimizer: Maximum iterations (200) reached and the optimization hasn't converged yet.\n",
      "  warnings.warn(\n",
      "C:\\Users\\91830\\anaconda3\\lib\\site-packages\\sklearn\\utils\\extmath.py:153: RuntimeWarning: overflow encountered in matmul\n",
      "  ret = a @ b\n",
      "C:\\Users\\91830\\anaconda3\\lib\\site-packages\\sklearn\\utils\\extmath.py:153: RuntimeWarning: invalid value encountered in matmul\n",
      "  ret = a @ b\n",
      "C:\\Users\\91830\\anaconda3\\lib\\site-packages\\sklearn\\neural_network\\_multilayer_perceptron.py:692: ConvergenceWarning: Stochastic Optimizer: Maximum iterations (200) reached and the optimization hasn't converged yet.\n",
      "  warnings.warn(\n",
      "C:\\Users\\91830\\anaconda3\\lib\\site-packages\\sklearn\\neural_network\\_multilayer_perceptron.py:692: ConvergenceWarning: Stochastic Optimizer: Maximum iterations (200) reached and the optimization hasn't converged yet.\n",
      "  warnings.warn(\n"
     ]
    },
    {
     "name": "stdout",
     "output_type": "stream",
     "text": [
      "{'activation': 'relu', 'alpha': 0.0001, 'hidden_layer_sizes': (100,), 'learning_rate': 'constant', 'solver': 'adam'}\n"
     ]
    }
   ],
   "source": [
    "#Algorithm 3: MLP\n",
    "from sklearn.neural_network import MLPClassifier\n",
    "mlp = MLPClassifier()\n",
    "parameter_space = {\n",
    "    'hidden_layer_sizes': [(50,50,50), (50,100,50), (100,)],\n",
    "    'activation': ['tanh', 'relu'],\n",
    "    'solver': ['sgd', 'adam'],\n",
    "    'alpha': [0.0001, 0.05],\n",
    "    'learning_rate': ['constant','adaptive'],\n",
    "}\n",
    "mlp_grid = GridSearchCV(mlp, parameter_space, cv=10, scoring='accuracy')\n",
    "mlp_grid.fit(X_train_smenn, y_train_smenn)\n",
    "best_parameters = mlp_grid.best_params_\n",
    "print(best_parameters)"
   ]
  },
  {
   "cell_type": "code",
   "execution_count": 13,
   "metadata": {
    "colab": {
     "base_uri": "https://localhost:8080/"
    },
    "executionInfo": {
     "elapsed": 1203,
     "status": "ok",
     "timestamp": 1672859923810,
     "user": {
      "displayName": "MUTHUSARAVANAN S",
      "userId": "11781134045498187958"
     },
     "user_tz": -330
    },
    "id": "IQpfp1_CNj9A",
    "outputId": "390f2b0c-c571-4a01-aee0-025db47ec040"
   },
   "outputs": [
    {
     "name": "stdout",
     "output_type": "stream",
     "text": [
      "\n",
      "Accuracy:  0.8124603476716152\n",
      "\n",
      "MCC: 0.6198036582116345\n",
      "\n",
      "Sensitivity:  0.8591549295774648\n",
      "\n",
      "Specificity:  0.7657657657657657\n",
      "\n",
      "Recall:  0.8591549295774648\n",
      "\n",
      "Precision:  0.8755980861244019\n",
      "\n",
      "Area under the ROC curve:  0.8124603476716152\n",
      "\n",
      "F1 score:  0.8672985781990521\n"
     ]
    }
   ],
   "source": [
    "mlp1 = MLPClassifier(alpha=0.0001, hidden_layer_sizes=(100,), activation = 'relu',solver='adam', learning_rate = 'constant')\n",
    "mlp1.fit(X_train_smenn, y_train_smenn)\n",
    "y_predmlp1 = mlp1.predict(X_test_smenn)\n",
    "#Model Evaluation\n",
    "tn, fp, fn, tp = confusion_matrix(y_test_smenn, y_predmlp1).ravel()\n",
    "MCC = matthews_corrcoef(y_test_smenn, y_predmlp1)\n",
    "accuracy = balanced_accuracy_score(y_test_smenn, y_predmlp1)\n",
    "sensitivity = tp/(tp+fn)\n",
    "specificity = tn/(tn+fp)\n",
    "recall = recall_score(y_test_smenn, y_predmlp1)\n",
    "precision = precision_score(y_test_smenn, y_predmlp1)\n",
    "roc_auc = roc_auc_score(y_test_smenn, y_predmlp1)\n",
    "f1 = f1_score(y_test_smenn, y_predmlp1)\n",
    "print('\\nAccuracy: ', accuracy)\n",
    "print('\\nMCC:', MCC)\n",
    "print('\\nSensitivity: ', sensitivity)\n",
    "print('\\nSpecificity: ', specificity)\n",
    "print('\\nRecall: ', recall)\n",
    "print('\\nPrecision: ', precision)\n",
    "print('\\nArea under the ROC curve: ', roc_auc)\n",
    "print('\\nF1 score: ', f1)\n"
   ]
  },
  {
   "cell_type": "code",
   "execution_count": 14,
   "metadata": {
    "colab": {
     "base_uri": "https://localhost:8080/",
     "height": 301
    },
    "executionInfo": {
     "elapsed": 537,
     "status": "ok",
     "timestamp": 1672859958812,
     "user": {
      "displayName": "MUTHUSARAVANAN S",
      "userId": "11781134045498187958"
     },
     "user_tz": -330
    },
    "id": "RXOijIZeZhzt",
    "outputId": "d04e3b2a-0a2b-404c-bf6a-7d1792ff44c8"
   },
   "outputs": [
    {
     "data": {
      "text/plain": [
       "<sklearn.metrics._plot.confusion_matrix.ConfusionMatrixDisplay at 0x18115960160>"
      ]
     },
     "execution_count": 14,
     "metadata": {},
     "output_type": "execute_result"
    },
    {
     "data": {
      "image/png": "[encoded data removed]",
      "text/plain": [
       "<Figure size 640x480 with 2 Axes>"
      ]
     },
     "metadata": {},
     "output_type": "display_data"
    }
   ],
   "source": [
    "import seaborn as sns \n",
    "from sklearn.metrics import confusion_matrix, ConfusionMatrixDisplay\n",
    "cm = confusion_matrix(y_test_smenn, y_predmlp1)\n",
    "cmd = ConfusionMatrixDisplay(cm, display_labels=['Active','Inactive'])\n",
    "cmd.plot()"
   ]
  },
  {
   "cell_type": "code",
   "execution_count": 15,
   "metadata": {
    "id": "xSZ86ZihaEj-"
   },
   "outputs": [
    {
     "name": "stdout",
     "output_type": "stream",
     "text": [
      "\n",
      " The best estimator across ALL searched params:\n",
      " GradientBoostingClassifier(n_estimators=500)\n"
     ]
    }
   ],
   "source": [
    "from sklearn.ensemble import GradientBoostingClassifier\n",
    "from sklearn.model_selection import GridSearchCV\n",
    "from sklearn.metrics import accuracy_score\n",
    "from sklearn.metrics import precision_score\n",
    "from sklearn.metrics import recall_score\n",
    "from sklearn.metrics import make_scorer\n",
    "\n",
    "GBC = GradientBoostingClassifier()\n",
    "parameters = { 'n_estimators' : [100,200,300,400,500]}\n",
    "  \n",
    "\n",
    "grid_GBC = GridSearchCV(estimator=GBC, param_grid = parameters, cv = 10, n_jobs=-1)\n",
    "grid_GBC.fit(X_train_smenn, y_train_smenn)\n",
    "\n",
    "\n",
    "print(\"\\n The best estimator across ALL searched params:\\n\",grid_GBC.best_estimator_)\n",
    "\n"
   ]
  },
  {
   "cell_type": "code",
   "execution_count": 16,
   "metadata": {
    "colab": {
     "base_uri": "https://localhost:8080/"
    },
    "executionInfo": {
     "elapsed": 7661,
     "status": "ok",
     "timestamp": 1672860104079,
     "user": {
      "displayName": "MUTHUSARAVANAN S",
      "userId": "11781134045498187958"
     },
     "user_tz": -330
    },
    "id": "zN5Ps7n7cS3q",
    "outputId": "1e9998e0-0872-450c-c219-3ac64908b8ba"
   },
   "outputs": [
    {
     "name": "stdout",
     "output_type": "stream",
     "text": [
      "\n",
      "Accuracy:  0.9056591803070677\n",
      "\n",
      "MCC: 0.7946703246646544\n",
      "\n",
      "Sensitivity:  0.9014084507042254\n",
      "\n",
      "Specificity:  0.9099099099099099\n",
      "\n",
      "Recall:  0.9014084507042254\n",
      "\n",
      "Precision:  0.9504950495049505\n",
      "\n",
      "Area under the ROC curve:  0.9056591803070677\n",
      "\n",
      "F1 score:  0.9253012048192771\n"
     ]
    }
   ],
   "source": [
    "from sklearn.ensemble import GradientBoostingClassifier\n",
    "gb_clf = GradientBoostingClassifier(n_estimators=500)\n",
    "gb_clf.fit(X_train_smenn, y_train_smenn)\n",
    "predictions = gb_clf.predict(X_test_smenn)\n",
    "#Model Evaluation\n",
    "tn, fp, fn, tp = confusion_matrix(y_test_smenn, predictions).ravel()\n",
    "MCC = matthews_corrcoef(y_test_smenn, predictions)\n",
    "accuracy = balanced_accuracy_score(y_test_smenn, predictions)\n",
    "sensitivity = tp/(tp+fn)\n",
    "specificity = tn/(tn+fp)\n",
    "recall = recall_score(y_test_smenn, predictions)\n",
    "precision = precision_score(y_test_smenn, predictions)\n",
    "roc_auc = roc_auc_score(y_test_smenn, predictions)\n",
    "f1 = f1_score(y_test_smenn, predictions)\n",
    "print('\\nAccuracy: ', accuracy)\n",
    "print('\\nMCC:', MCC)\n",
    "print('\\nSensitivity: ', sensitivity)\n",
    "print('\\nSpecificity: ', specificity)\n",
    "print('\\nRecall: ', recall)\n",
    "print('\\nPrecision: ', precision)\n",
    "print('\\nArea under the ROC curve: ', roc_auc)\n",
    "print('\\nF1 score: ', f1)"
   ]
  },
  {
   "cell_type": "code",
   "execution_count": 17,
   "metadata": {
    "colab": {
     "base_uri": "https://localhost:8080/",
     "height": 301
    },
    "executionInfo": {
     "elapsed": 1031,
     "status": "ok",
     "timestamp": 1672860156007,
     "user": {
      "displayName": "MUTHUSARAVANAN S",
      "userId": "11781134045498187958"
     },
     "user_tz": -330
    },
    "id": "kwtN-YSlyeX0",
    "outputId": "4430e136-a5c9-4cba-e0ee-a2449abffd1a"
   },
   "outputs": [
    {
     "data": {
      "text/plain": [
       "<sklearn.metrics._plot.confusion_matrix.ConfusionMatrixDisplay at 0x1811603c3d0>"
      ]
     },
     "execution_count": 17,
     "metadata": {},
     "output_type": "execute_result"
    },
    {
     "data": {
      "image/png": "[encoded data removed]",
      "text/plain": [
       "<Figure size 640x480 with 2 Axes>"
      ]
     },
     "metadata": {},
     "output_type": "display_data"
    }
   ],
   "source": [
    "import seaborn as sns \n",
    "from sklearn.metrics import confusion_matrix, ConfusionMatrixDisplay\n",
    "cm = confusion_matrix(y_test_smenn, predictions)\n",
    "cmd = ConfusionMatrixDisplay(cm, display_labels=['Active','Inactive'])\n",
    "cmd.plot()"
   ]
  },
  {
   "cell_type": "code",
   "execution_count": 22,
   "metadata": {
    "id": "gqpOp8BCWVEH"
   },
   "outputs": [
    {
     "data": {
      "text/plain": [
       "{'learning_rate': 1, 'n_estimators': 1000}"
      ]
     },
     "execution_count": 22,
     "metadata": {},
     "output_type": "execute_result"
    }
   ],
   "source": [
    "from sklearn.ensemble import AdaBoostClassifier\n",
    "from sklearn.model_selection import GridSearchCV\n",
    "ada=AdaBoostClassifier()\n",
    "search_grid={'n_estimators':[200,500,1000,1500, 2000],'learning_rate':[0.0001,0.001,0.01,.1,1]}\n",
    "search=GridSearchCV(estimator=ada,param_grid=search_grid,scoring='accuracy',n_jobs=1,cv=10)\n",
    "search.fit(X_train_smenn, y_train_smenn)\n",
    "search.best_params_"
   ]
  },
  {
   "cell_type": "code",
   "execution_count": 23,
   "metadata": {
    "colab": {
     "base_uri": "https://localhost:8080/"
    },
    "executionInfo": {
     "elapsed": 8906,
     "status": "ok",
     "timestamp": 1672860197751,
     "user": {
      "displayName": "MUTHUSARAVANAN S",
      "userId": "11781134045498187958"
     },
     "user_tz": -330
    },
    "id": "NHUEsIHxptlC",
    "outputId": "2f6dbb4f-71cb-4ccb-adb0-eeaf89b95613"
   },
   "outputs": [
    {
     "name": "stdout",
     "output_type": "stream",
     "text": [
      "\n",
      "Accuracy:  0.9009643446263165\n",
      "\n",
      "MCC: 0.7829989893143767\n",
      "\n",
      "Sensitivity:  0.892018779342723\n",
      "\n",
      "Specificity:  0.9099099099099099\n",
      "\n",
      "Recall:  0.892018779342723\n",
      "\n",
      "Precision:  0.95\n",
      "\n",
      "Area under the ROC curve:  0.9009643446263165\n",
      "\n",
      "F1 score:  0.9200968523002421\n"
     ]
    }
   ],
   "source": [
    "from sklearn.metrics import confusion_matrix\n",
    "from sklearn.ensemble import AdaBoostClassifier\n",
    "ada_clf = AdaBoostClassifier(learning_rate=1, n_estimators=1000)\n",
    "ada_clf.fit(X_train_smenn, y_train_smenn)\n",
    "adapred = ada_clf.predict(X_test_smenn)\n",
    "#Model Evaluation\n",
    "tn, fp, fn, tp = confusion_matrix(y_test_smenn, adapred).ravel()\n",
    "MCC = matthews_corrcoef(y_test_smenn, adapred)\n",
    "accuracy = balanced_accuracy_score(y_test_smenn, adapred)\n",
    "sensitivity = tp/(tp+fn)\n",
    "specificity = tn/(tn+fp)\n",
    "recall = recall_score(y_test_smenn, adapred)\n",
    "precision = precision_score(y_test_smenn, adapred)\n",
    "roc_auc = roc_auc_score(y_test_smenn, adapred)\n",
    "f1 = f1_score(y_test_smenn, adapred)\n",
    "print('\\nAccuracy: ', accuracy)\n",
    "print('\\nMCC:', MCC)\n",
    "print('\\nSensitivity: ', sensitivity)\n",
    "print('\\nSpecificity: ', specificity)\n",
    "print('\\nRecall: ', recall)\n",
    "print('\\nPrecision: ', precision)\n",
    "print('\\nArea under the ROC curve: ', roc_auc)\n",
    "print('\\nF1 score: ', f1)"
   ]
  },
  {
   "cell_type": "code",
   "execution_count": 24,
   "metadata": {
    "colab": {
     "base_uri": "https://localhost:8080/",
     "height": 479
    },
    "executionInfo": {
     "elapsed": 1161,
     "status": "ok",
     "timestamp": 1672860252941,
     "user": {
      "displayName": "MUTHUSARAVANAN S",
      "userId": "11781134045498187958"
     },
     "user_tz": -330
    },
    "id": "Ajx8diiXyWs2",
    "outputId": "637bdfdd-957d-43a3-c91a-40bfda9a9781"
   },
   "outputs": [
    {
     "data": {
      "text/plain": [
       "<sklearn.metrics._plot.confusion_matrix.ConfusionMatrixDisplay at 0x181183ae430>"
      ]
     },
     "execution_count": 24,
     "metadata": {},
     "output_type": "execute_result"
    },
    {
     "data": {
      "image/png": "[encoded data removed]",
      "text/plain": [
       "<Figure size 640x480 with 2 Axes>"
      ]
     },
     "metadata": {},
     "output_type": "display_data"
    }
   ],
   "source": [
    "import seaborn as sns \n",
    "from sklearn.metrics import confusion_matrix, ConfusionMatrixDisplay\n",
    "cm = confusion_matrix(y_test_smenn, adapred)\n",
    "cmd = ConfusionMatrixDisplay(cm, display_labels=['Active','Inactive'])\n",
    "cmd.plot()"
   ]
  },
  {
   "cell_type": "code",
   "execution_count": 25,
   "metadata": {},
   "outputs": [
    {
     "data": {
      "text/plain": [
       "{'n_estimators': 500}"
      ]
     },
     "execution_count": 25,
     "metadata": {},
     "output_type": "execute_result"
    }
   ],
   "source": [
    "import xgboost as xgb\n",
    "from xgboost import XGBClassifier\n",
    "from sklearn.model_selection import GridSearchCV\n",
    "xgb=xgb.XGBClassifier()\n",
    "search_grid={'n_estimators':[200,500,1000,1500, 2000]}\n",
    "search=GridSearchCV(estimator=xgb,param_grid=search_grid,scoring='accuracy',n_jobs=1,cv=10)\n",
    "search.fit(X_train_smenn, y_train_smenn)\n",
    "search.best_params_\n"
   ]
  },
  {
   "cell_type": "code",
   "execution_count": 26,
   "metadata": {},
   "outputs": [
    {
     "name": "stdout",
     "output_type": "stream",
     "text": [
      "\n",
      "Accuracy:  0.8759040730871717\n",
      "\n",
      "MCC: 0.7352037843675411\n",
      "\n",
      "Sensitivity:  0.8779342723004695\n",
      "\n",
      "Specificity:  0.8738738738738738\n",
      "\n",
      "Recall:  0.8779342723004695\n",
      "\n",
      "Precision:  0.9303482587064676\n",
      "\n",
      "Area under the ROC curve:  0.8759040730871717\n",
      "\n",
      "F1 score:  0.9033816425120773\n"
     ]
    },
    {
     "data": {
      "text/plain": [
       "<sklearn.metrics._plot.confusion_matrix.ConfusionMatrixDisplay at 0x18115ff48b0>"
      ]
     },
     "execution_count": 26,
     "metadata": {},
     "output_type": "execute_result"
    },
    {
     "data": {
      "image/png": "[encoded data removed]",
      "text/plain": [
       "<Figure size 640x480 with 2 Axes>"
      ]
     },
     "metadata": {},
     "output_type": "display_data"
    }
   ],
   "source": [
    "#XGBoost classifer \n",
    "import xgboost as xgb\n",
    "from xgboost import XGBClassifier\n",
    "xgb_model = xgb.XGBClassifier(objective=\"binary:logistic\",n_estimators=500)\n",
    "xgb_model.fit(X_train_smenn, y_train_smenn)\n",
    "\n",
    "y_predxgb = xgb_model.predict(X_test_smenn)\n",
    "\n",
    "#Model Evaluation\n",
    "tn, fp, fn, tp = confusion_matrix(y_test_smenn, y_predxgb).ravel()\n",
    "MCC = matthews_corrcoef(y_test_smenn, y_predxgb)\n",
    "accuracy = balanced_accuracy_score(y_test_smenn, y_predxgb)\n",
    "sensitivity = tp/(tp+fn)\n",
    "specificity = tn/(tn+fp)\n",
    "recall = recall_score(y_test_smenn, y_predxgb)\n",
    "precision = precision_score(y_test_smenn, y_predxgb)\n",
    "roc_auc = roc_auc_score(y_test_smenn, y_predxgb)\n",
    "f1 = f1_score(y_test_smenn, y_predxgb)\n",
    "print('\\nAccuracy: ', accuracy)\n",
    "print('\\nMCC:', MCC)\n",
    "print('\\nSensitivity: ', sensitivity)\n",
    "print('\\nSpecificity: ', specificity)\n",
    "print('\\nRecall: ', recall)\n",
    "print('\\nPrecision: ', precision)\n",
    "print('\\nArea under the ROC curve: ', roc_auc)\n",
    "print('\\nF1 score: ', f1)\n",
    "#confusion matrix\n",
    "import seaborn as sns \n",
    "from sklearn.metrics import confusion_matrix, ConfusionMatrixDisplay\n",
    "cm = confusion_matrix(y_test_smenn, y_predxgb)\n",
    "cmd = ConfusionMatrixDisplay(cm, display_labels=['Active','Inactive'])\n",
    "cmd.plot()"
   ]
  },
  {
   "cell_type": "code",
   "execution_count": 28,
   "metadata": {},
   "outputs": [],
   "source": [
    "from sklearn.svm import SVC"
   ]
  },
  {
   "cell_type": "code",
   "execution_count": 30,
   "metadata": {
    "colab": {
     "base_uri": "https://localhost:8080/",
     "height": 279
    },
    "executionInfo": {
     "elapsed": 17675,
     "status": "ok",
     "timestamp": 1672860763906,
     "user": {
      "displayName": "MUTHUSARAVANAN S",
      "userId": "11781134045498187958"
     },
     "user_tz": -330
    },
    "id": "wueXayz4Ly0j",
    "outputId": "4a5c4051-7d05-4928-93db-d9c3ec0d3f5c"
   },
   "outputs": [
    {
     "data": {
      "image/png": "[encoded data removed]",
      "text/plain": [
       "<Figure size 640x480 with 1 Axes>"
      ]
     },
     "metadata": {},
     "output_type": "display_data"
    }
   ],
   "source": [
    "from sklearn import metrics\n",
    "import matplotlib.pyplot as plt\n",
    "\n",
    "plt.figure()\n",
    "\n",
    "# Add the models to the list that you want to view on the ROC plot\n",
    "models = [\n",
    "{\n",
    "    'label': 'Gradient Boosting',\n",
    "    'model': GradientBoostingClassifier(n_estimators=500),\n",
    "},\n",
    "{\n",
    "    'label': 'Random Forest',\n",
    "    'model': RandomForestClassifier(bootstrap=False, n_estimators=800, criterion=\"entropy\"),\n",
    "},\n",
    "\n",
    "{\n",
    "    'label': 'AdaBoost Classifier',\n",
    "    'model': AdaBoostClassifier(learning_rate=1, n_estimators=1000),\n",
    "},\n",
    "{\n",
    "    'label': 'XGBClassifier',\n",
    "    'model': XGBClassifier(objective=\"binary:logistic\",n_estimators=500),\n",
    "},\n",
    "]\n",
    "\n",
    "# Below for loop iterates through your models list\n",
    "for m in models:\n",
    "    model = m['model'] # select the model\n",
    "    model.fit(X_train_smenn, y_train_smenn) # train the model\n",
    "    y_predstack=model.predict(X_test_smenn) # predict the test data\n",
    "# Compute False postive rate, and True positive rate\n",
    "    fpr, tpr, thresholds = metrics.roc_curve(y_test_smenn, model.predict_proba(X_test_smenn)[:,1])\n",
    "# Calculate Area under the curve to display on the plot\n",
    "    auc = metrics.roc_auc_score(y_test_smenn,model.predict(X_test_smenn))\n",
    "# Now, plot the computed values\n",
    "    plt.plot(fpr, tpr, label='%s ROC (area = %0.2f)' % (m['label'], auc))\n",
    "# Custom settings for the plot \n",
    "plt.plot([0, 1], [0, 1],'r--')\n",
    "plt.xlim([0.0, 1.0])\n",
    "plt.ylim([0.0, 1.05])\n",
    "plt.xlabel('1-Specificity(False Positive Rate)')\n",
    "plt.ylabel('Sensitivity(True Positive Rate)')\n",
    "plt.legend(loc=\"lower right\", frameon=False)\n",
    "plt.show() "
   ]
  }
 ],
 "metadata": {
  "colab": {
   "authorship_tag": "ABX9TyMtRaIwSoxs9ytw51TET/tJ",
   "provenance": []
  },
  "gpuClass": "standard",
  "kernelspec": {
   "display_name": "Python 3 (ipykernel)",
   "language": "python",
   "name": "python3"
  },
  "language_info": {
   "codemirror_mode": {
    "name": "ipython",
    "version": 3
   },
   "file_extension": ".py",
   "mimetype": "text/x-python",
   "name": "python",
   "nbconvert_exporter": "python",
   "pygments_lexer": "ipython3",
   "version": "3.9.13"
  }
 },
 "nbformat": 4,
 "nbformat_minor": 1
}
